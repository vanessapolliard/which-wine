{
 "cells": [
  {
   "cell_type": "code",
   "execution_count": 310,
   "metadata": {},
   "outputs": [],
   "source": [
    "import pandas as pd\n",
    "import numpy as np\n",
    "import matplotlib.pyplot as plt\n",
    "import seaborn as sns\n",
    "import re\n",
    "from sklearn.feature_extraction.text import CountVectorizer, TfidfVectorizer\n",
    "from nltk.stem.porter import PorterStemmer\n",
    "from nltk.stem.snowball import SnowballStemmer\n",
    "from nltk.stem.wordnet import WordNetLemmatizer\n",
    "from nltk.tokenize import word_tokenize\n",
    "from nltk.corpus import stopwords\n",
    "from sklearn.decomposition import LatentDirichletAllocation, NMF\n",
    "from sklearn.metrics.pairwise import cosine_distances\n",
    "from gensim.parsing.preprocessing import STOPWORDS\n",
    "from gensim.utils import simple_preprocess\n",
    "import gensim.corpora as corpora\n",
    "from wordcloud import WordCloud"
   ]
  },
  {
   "cell_type": "code",
   "execution_count": 440,
   "metadata": {},
   "outputs": [],
   "source": [
    "#colors = ['olive','#0d42ba','coral','#0d98ba','#a95292','maroon','#279989','hotpink','#1a405a','#f25e60',,'#0dba86',,'#95b211','#071d49','#ffbfb7','#244c96']\n",
    "colors = ['#581845','#eac05f','maroon','#DAF7A6','#fe8402','#C70039']\n"
   ]
  },
  {
   "cell_type": "code",
   "execution_count": 441,
   "metadata": {},
   "outputs": [
    {
     "data": {
      "image/png": "[encoded data removed]",
      "text/plain": [
       "<Figure size 1008x504 with 1 Axes>"
      ]
     },
     "metadata": {
      "needs_background": "light"
     },
     "output_type": "display_data"
    }
   ],
   "source": [
    "fig, ax = plt.subplots(1, 1, figsize=(14, 7))\n",
    "for idx, color in enumerate(colors):\n",
    "    ax.axhline(idx,color=color)\n",
    "plt.show()"
   ]
  },
  {
   "cell_type": "code",
   "execution_count": 305,
   "metadata": {},
   "outputs": [],
   "source": [
    "raw_data = '../data/winemag-data-190314.csv'"
   ]
  },
  {
   "cell_type": "code",
   "execution_count": 160,
   "metadata": {},
   "outputs": [],
   "source": [
    "df = pd.read_csv(raw_data)"
   ]
  },
  {
   "cell_type": "code",
   "execution_count": 161,
   "metadata": {},
   "outputs": [],
   "source": [
    "df.drop(labels='Unnamed: 0',axis=1,inplace=True)"
   ]
  },
  {
   "cell_type": "code",
   "execution_count": 162,
   "metadata": {},
   "outputs": [
    {
     "data": {
      "text/html": [
       "<div>\n",
       "<style scoped>\n",
       "    .dataframe tbody tr th:only-of-type {\n",
       "        vertical-align: middle;\n",
       "    }\n",
       "\n",
       "    .dataframe tbody tr th {\n",
       "        vertical-align: top;\n",
       "    }\n",
       "\n",
       "    .dataframe thead th {\n",
       "        text-align: right;\n",
       "    }\n",
       "</style>\n",
       "<table border=\"1\" class=\"dataframe\">\n",
       "  <thead>\n",
       "    <tr style=\"text-align: right;\">\n",
       "      <th></th>\n",
       "      <th>country</th>\n",
       "      <th>description</th>\n",
       "      <th>designation</th>\n",
       "      <th>points</th>\n",
       "      <th>price</th>\n",
       "      <th>province</th>\n",
       "      <th>region_1</th>\n",
       "      <th>region_2</th>\n",
       "      <th>taster_name</th>\n",
       "      <th>taster_twitter_handle</th>\n",
       "      <th>title</th>\n",
       "      <th>variety</th>\n",
       "      <th>winery</th>\n",
       "      <th>vintage</th>\n",
       "    </tr>\n",
       "  </thead>\n",
       "  <tbody>\n",
       "    <tr>\n",
       "      <th>0</th>\n",
       "      <td>Italy</td>\n",
       "      <td>Aromas include tropical fruit, broom, brimston...</td>\n",
       "      <td>Vulkà Bianco</td>\n",
       "      <td>87</td>\n",
       "      <td>NaN</td>\n",
       "      <td>Sicily &amp; Sardinia</td>\n",
       "      <td>Etna</td>\n",
       "      <td>NaN</td>\n",
       "      <td>Kerin O’Keefe</td>\n",
       "      <td>@kerinokeefe</td>\n",
       "      <td>Nicosia 2013 Vulkà Bianco  (Etna)</td>\n",
       "      <td>White Blend</td>\n",
       "      <td>Nicosia</td>\n",
       "      <td>2013.0</td>\n",
       "    </tr>\n",
       "    <tr>\n",
       "      <th>1</th>\n",
       "      <td>Portugal</td>\n",
       "      <td>This is ripe and fruity, a wine that is smooth...</td>\n",
       "      <td>Avidagos</td>\n",
       "      <td>87</td>\n",
       "      <td>15.0</td>\n",
       "      <td>Douro</td>\n",
       "      <td>NaN</td>\n",
       "      <td>NaN</td>\n",
       "      <td>Roger Voss</td>\n",
       "      <td>@vossroger</td>\n",
       "      <td>Quinta dos Avidagos 2011 Avidagos Red (Douro)</td>\n",
       "      <td>Portuguese Red</td>\n",
       "      <td>Quinta dos Avidagos</td>\n",
       "      <td>2011.0</td>\n",
       "    </tr>\n",
       "    <tr>\n",
       "      <th>2</th>\n",
       "      <td>US</td>\n",
       "      <td>Tart and snappy, the flavors of lime flesh and...</td>\n",
       "      <td>NaN</td>\n",
       "      <td>87</td>\n",
       "      <td>14.0</td>\n",
       "      <td>Oregon</td>\n",
       "      <td>Willamette Valley</td>\n",
       "      <td>Willamette Valley</td>\n",
       "      <td>Paul Gregutt</td>\n",
       "      <td>@paulgwine</td>\n",
       "      <td>Rainstorm 2013 Pinot Gris (Willamette Valley)</td>\n",
       "      <td>Pinot Gris</td>\n",
       "      <td>Rainstorm</td>\n",
       "      <td>2013.0</td>\n",
       "    </tr>\n",
       "    <tr>\n",
       "      <th>3</th>\n",
       "      <td>US</td>\n",
       "      <td>Pineapple rind, lemon pith and orange blossom ...</td>\n",
       "      <td>Reserve Late Harvest</td>\n",
       "      <td>87</td>\n",
       "      <td>13.0</td>\n",
       "      <td>Michigan</td>\n",
       "      <td>Lake Michigan Shore</td>\n",
       "      <td>NaN</td>\n",
       "      <td>Alexander Peartree</td>\n",
       "      <td>NaN</td>\n",
       "      <td>St. Julian 2013 Reserve Late Harvest Riesling ...</td>\n",
       "      <td>Riesling</td>\n",
       "      <td>St. Julian</td>\n",
       "      <td>2013.0</td>\n",
       "    </tr>\n",
       "    <tr>\n",
       "      <th>4</th>\n",
       "      <td>US</td>\n",
       "      <td>Much like the regular bottling from 2012, this...</td>\n",
       "      <td>Vintner's Reserve Wild Child Block</td>\n",
       "      <td>87</td>\n",
       "      <td>65.0</td>\n",
       "      <td>Oregon</td>\n",
       "      <td>Willamette Valley</td>\n",
       "      <td>Willamette Valley</td>\n",
       "      <td>Paul Gregutt</td>\n",
       "      <td>@paulgwine</td>\n",
       "      <td>Sweet Cheeks 2012 Vintner's Reserve Wild Child...</td>\n",
       "      <td>Pinot Noir</td>\n",
       "      <td>Sweet Cheeks</td>\n",
       "      <td>2012.0</td>\n",
       "    </tr>\n",
       "  </tbody>\n",
       "</table>\n",
       "</div>"
      ],
      "text/plain": [
       "    country                                        description  \\\n",
       "0     Italy  Aromas include tropical fruit, broom, brimston...   \n",
       "1  Portugal  This is ripe and fruity, a wine that is smooth...   \n",
       "2        US  Tart and snappy, the flavors of lime flesh and...   \n",
       "3        US  Pineapple rind, lemon pith and orange blossom ...   \n",
       "4        US  Much like the regular bottling from 2012, this...   \n",
       "\n",
       "                          designation  points  price           province  \\\n",
       "0                        Vulkà Bianco      87    NaN  Sicily & Sardinia   \n",
       "1                            Avidagos      87   15.0              Douro   \n",
       "2                                 NaN      87   14.0             Oregon   \n",
       "3                Reserve Late Harvest      87   13.0           Michigan   \n",
       "4  Vintner's Reserve Wild Child Block      87   65.0             Oregon   \n",
       "\n",
       "              region_1           region_2         taster_name  \\\n",
       "0                 Etna                NaN       Kerin O’Keefe   \n",
       "1                  NaN                NaN          Roger Voss   \n",
       "2    Willamette Valley  Willamette Valley        Paul Gregutt   \n",
       "3  Lake Michigan Shore                NaN  Alexander Peartree   \n",
       "4    Willamette Valley  Willamette Valley        Paul Gregutt   \n",
       "\n",
       "  taster_twitter_handle                                              title  \\\n",
       "0          @kerinokeefe                  Nicosia 2013 Vulkà Bianco  (Etna)   \n",
       "1            @vossroger      Quinta dos Avidagos 2011 Avidagos Red (Douro)   \n",
       "2           @paulgwine       Rainstorm 2013 Pinot Gris (Willamette Valley)   \n",
       "3                   NaN  St. Julian 2013 Reserve Late Harvest Riesling ...   \n",
       "4           @paulgwine   Sweet Cheeks 2012 Vintner's Reserve Wild Child...   \n",
       "\n",
       "          variety               winery  vintage  \n",
       "0     White Blend              Nicosia   2013.0  \n",
       "1  Portuguese Red  Quinta dos Avidagos   2011.0  \n",
       "2      Pinot Gris            Rainstorm   2013.0  \n",
       "3        Riesling           St. Julian   2013.0  \n",
       "4      Pinot Noir         Sweet Cheeks   2012.0  "
      ]
     },
     "execution_count": 162,
     "metadata": {},
     "output_type": "execute_result"
    }
   ],
   "source": [
    "df.head()"
   ]
  },
  {
   "cell_type": "code",
   "execution_count": 7,
   "metadata": {},
   "outputs": [
    {
     "name": "stdout",
     "output_type": "stream",
     "text": [
      "<class 'pandas.core.frame.DataFrame'>\n",
      "RangeIndex: 141617 entries, 0 to 141616\n",
      "Data columns (total 14 columns):\n",
      "country                  141556 non-null object\n",
      "description              141617 non-null object\n",
      "designation              101435 non-null object\n",
      "points                   141617 non-null int64\n",
      "price                    131959 non-null float64\n",
      "province                 141556 non-null object\n",
      "region_1                 118731 non-null object\n",
      "region_2                 54785 non-null object\n",
      "taster_name              116700 non-null object\n",
      "taster_twitter_handle    110968 non-null object\n",
      "title                    141617 non-null object\n",
      "variety                  141616 non-null object\n",
      "winery                   141617 non-null object\n",
      "vintage                  136383 non-null float64\n",
      "dtypes: float64(2), int64(1), object(11)\n",
      "memory usage: 15.1+ MB\n"
     ]
    }
   ],
   "source": [
    "df.info()"
   ]
  },
  {
   "cell_type": "code",
   "execution_count": 8,
   "metadata": {},
   "outputs": [
    {
     "data": {
      "text/html": [
       "<div>\n",
       "<style scoped>\n",
       "    .dataframe tbody tr th:only-of-type {\n",
       "        vertical-align: middle;\n",
       "    }\n",
       "\n",
       "    .dataframe tbody tr th {\n",
       "        vertical-align: top;\n",
       "    }\n",
       "\n",
       "    .dataframe thead th {\n",
       "        text-align: right;\n",
       "    }\n",
       "</style>\n",
       "<table border=\"1\" class=\"dataframe\">\n",
       "  <thead>\n",
       "    <tr style=\"text-align: right;\">\n",
       "      <th></th>\n",
       "      <th>points</th>\n",
       "      <th>price</th>\n",
       "      <th>vintage</th>\n",
       "    </tr>\n",
       "  </thead>\n",
       "  <tbody>\n",
       "    <tr>\n",
       "      <th>count</th>\n",
       "      <td>141617.000000</td>\n",
       "      <td>131959.000000</td>\n",
       "      <td>136383.000000</td>\n",
       "    </tr>\n",
       "    <tr>\n",
       "      <th>mean</th>\n",
       "      <td>88.565561</td>\n",
       "      <td>36.247221</td>\n",
       "      <td>2011.264366</td>\n",
       "    </tr>\n",
       "    <tr>\n",
       "      <th>std</th>\n",
       "      <td>3.079296</td>\n",
       "      <td>45.981721</td>\n",
       "      <td>4.007991</td>\n",
       "    </tr>\n",
       "    <tr>\n",
       "      <th>min</th>\n",
       "      <td>80.000000</td>\n",
       "      <td>4.000000</td>\n",
       "      <td>1904.000000</td>\n",
       "    </tr>\n",
       "    <tr>\n",
       "      <th>25%</th>\n",
       "      <td>86.000000</td>\n",
       "      <td>17.000000</td>\n",
       "      <td>2009.000000</td>\n",
       "    </tr>\n",
       "    <tr>\n",
       "      <th>50%</th>\n",
       "      <td>88.000000</td>\n",
       "      <td>26.000000</td>\n",
       "      <td>2012.000000</td>\n",
       "    </tr>\n",
       "    <tr>\n",
       "      <th>75%</th>\n",
       "      <td>91.000000</td>\n",
       "      <td>44.000000</td>\n",
       "      <td>2014.000000</td>\n",
       "    </tr>\n",
       "    <tr>\n",
       "      <th>max</th>\n",
       "      <td>100.000000</td>\n",
       "      <td>5000.000000</td>\n",
       "      <td>2018.000000</td>\n",
       "    </tr>\n",
       "  </tbody>\n",
       "</table>\n",
       "</div>"
      ],
      "text/plain": [
       "              points          price        vintage\n",
       "count  141617.000000  131959.000000  136383.000000\n",
       "mean       88.565561      36.247221    2011.264366\n",
       "std         3.079296      45.981721       4.007991\n",
       "min        80.000000       4.000000    1904.000000\n",
       "25%        86.000000      17.000000    2009.000000\n",
       "50%        88.000000      26.000000    2012.000000\n",
       "75%        91.000000      44.000000    2014.000000\n",
       "max       100.000000    5000.000000    2018.000000"
      ]
     },
     "execution_count": 8,
     "metadata": {},
     "output_type": "execute_result"
    }
   ],
   "source": [
    "df.describe()"
   ]
  },
  {
   "cell_type": "markdown",
   "metadata": {},
   "source": [
    "## Country"
   ]
  },
  {
   "cell_type": "code",
   "execution_count": 9,
   "metadata": {
    "scrolled": true
   },
   "outputs": [
    {
     "data": {
      "text/plain": [
       "country\n",
       "US                        58821\n",
       "France                    25169\n",
       "Italy                     21200\n",
       "Spain                      7185\n",
       "Portugal                   6160\n",
       "Chile                      4683\n",
       "Argentina                  3997\n",
       "Austria                    3604\n",
       "Australia                  2579\n",
       "Germany                    2468\n",
       "New Zealand                1556\n",
       "South Africa               1489\n",
       "Israel                      577\n",
       "Greece                      470\n",
       "Canada                      262\n",
       "Bulgaria                    157\n",
       "Hungary                     148\n",
       "Uruguay                     112\n",
       "Romania                     105\n",
       "Turkey                       90\n",
       "Moldova                      86\n",
       "England                      85\n",
       "Georgia                      84\n",
       "Croatia                      83\n",
       "Slovenia                     81\n",
       "Mexico                       70\n",
       "Brazil                       50\n",
       "Lebanon                      32\n",
       "Morocco                      24\n",
       "Switzerland                  17\n",
       "Peru                         16\n",
       "Czech Republic               14\n",
       "Ukraine                      14\n",
       "Macedonia                    11\n",
       "Cyprus                       10\n",
       "Luxembourg                   10\n",
       "Serbia                        8\n",
       "India                         8\n",
       "Kosovo                        8\n",
       "China                         5\n",
       "Armenia                       4\n",
       "Bosnia and Herzegovina        2\n",
       "Egypt                         1\n",
       "Slovakia                      1\n",
       "Name: description, dtype: int64"
      ]
     },
     "execution_count": 9,
     "metadata": {},
     "output_type": "execute_result"
    }
   ],
   "source": [
    "country = df.groupby('country').count()['description']\n",
    "country.reset_index\n",
    "country.sort_values(ascending=False)"
   ]
  },
  {
   "cell_type": "code",
   "execution_count": 88,
   "metadata": {},
   "outputs": [],
   "source": [
    "points = df.groupby('points').count()['description']\n",
    "#points.sort_values(ascending=False)"
   ]
  },
  {
   "cell_type": "code",
   "execution_count": 89,
   "metadata": {},
   "outputs": [
    {
     "data": {
      "text/plain": [
       "points\n",
       "80       411\n",
       "81       735\n",
       "82      1936\n",
       "83      3206\n",
       "84      6697\n",
       "85     10092\n",
       "86     13190\n",
       "87     17829\n",
       "88     18408\n",
       "89     13572\n",
       "90     16885\n",
       "91     12662\n",
       "92     10787\n",
       "93      7555\n",
       "94      4441\n",
       "95      1964\n",
       "96       732\n",
       "97       318\n",
       "98       119\n",
       "99        44\n",
       "100       34\n",
       "Name: description, dtype: int64"
      ]
     },
     "execution_count": 89,
     "metadata": {},
     "output_type": "execute_result"
    }
   ],
   "source": [
    "points"
   ]
  },
  {
   "cell_type": "code",
   "execution_count": 449,
   "metadata": {},
   "outputs": [
    {
     "data": {
      "image/png": "[encoded data removed]",
      "text/plain": [
       "<Figure size 432x288 with 1 Axes>"
      ]
     },
     "metadata": {
      "needs_background": "light"
     },
     "output_type": "display_data"
    }
   ],
   "source": [
    "fig, ax = plt.subplots()\n",
    "xvals = list(points.index)\n",
    "yvals = points.values\n",
    "plt.xticks(rotation='vertical',fontsize=14)\n",
    "ax.bar(xvals,yvals,color=colors[5])\n",
    "ax.tick_params(axis=\"y\", labelsize=14)\n",
    "ax.set_xticks(xvals)\n",
    "y_ticks = np.linspace(0,20000,5)\n",
    "ax.set_yticks(y_ticks)\n",
    "ax.set_xlabel(\"Score\",fontsize=16)\n",
    "ax.set_ylabel(\"Count of Reviews\",fontsize=16)\n",
    "ax.set_title(\"Wine Ratings\",fontsize=20,pad=10);"
   ]
  },
  {
   "cell_type": "markdown",
   "metadata": {},
   "source": [
    "## Variety"
   ]
  },
  {
   "cell_type": "code",
   "execution_count": 104,
   "metadata": {
    "scrolled": true
   },
   "outputs": [],
   "source": [
    "variety = df.groupby('variety').count()['description']\n",
    "variety = variety.sort_values(ascending=False)"
   ]
  },
  {
   "cell_type": "code",
   "execution_count": 463,
   "metadata": {
    "scrolled": true
   },
   "outputs": [
    {
     "data": {
      "text/plain": [
       "variety\n",
       "Pinot Noir                    14695\n",
       "Chardonnay                    12546\n",
       "Cabernet Sauvignon            10107\n",
       "Red Blend                      9635\n",
       "Bordeaux-style Red Blend       7878\n",
       "Riesling                       5588\n",
       "Sauvignon Blanc                5407\n",
       "Syrah                          4357\n",
       "Rosé                           4061\n",
       "Nebbiolo                       3277\n",
       "Merlot                         3230\n",
       "Sangiovese                     2957\n",
       "Zinfandel                      2907\n",
       "Malbec                         2863\n",
       "Portuguese Red                 2671\n",
       "White Blend                    2541\n",
       "Sparkling Blend                2519\n",
       "Tempranillo                    2021\n",
       "Rhône-style Red Blend          1742\n",
       "Champagne Blend                1575\n",
       "Pinot Gris                     1570\n",
       "Cabernet Franc                 1463\n",
       "Grüner Veltliner               1429\n",
       "Portuguese White               1260\n",
       "Bordeaux-style White Blend     1201\n",
       "Gamay                          1190\n",
       "Pinot Grigio                   1109\n",
       "Gewürztraminer                 1095\n",
       "Viognier                       1080\n",
       "Shiraz                          927\n",
       "                              ...  \n",
       "St. Vincent                       1\n",
       "Dafni                             1\n",
       "Diamond                           1\n",
       "Doña Blanca                       1\n",
       "Franconia                         1\n",
       "Garnacha-Cabernet                 1\n",
       "Pinot Gris-Gewürztraminer         1\n",
       "Pinot Noir-Tannat                 1\n",
       "Pinotage-Merlot                   1\n",
       "Gamza                             1\n",
       "Portuguiser                       1\n",
       "Premsal                           1\n",
       "Primitivo-Susumaniello            1\n",
       "Fumin                             1\n",
       "Früburgunder                      1\n",
       "Frankovka                         1\n",
       "Francisa                          1\n",
       "Roditis-Moschofilero              1\n",
       "Forcallà                          1\n",
       "Folle Blanche                     1\n",
       "Foglia Tonda                      1\n",
       "Flora                             1\n",
       "Fiano Bianco                      1\n",
       "Ramisco                           1\n",
       "Favorita                          1\n",
       "Riesling-Chardonnay               1\n",
       "Espadeiro                         1\n",
       "Riesling-Muscat                   1\n",
       "Ekigaïna                          1\n",
       "Žilavka                           1\n",
       "Name: description, Length: 758, dtype: int64"
      ]
     },
     "execution_count": 463,
     "metadata": {},
     "output_type": "execute_result"
    }
   ],
   "source": [
    "variety"
   ]
  },
  {
   "cell_type": "code",
   "execution_count": 105,
   "metadata": {
    "scrolled": true
   },
   "outputs": [
    {
     "data": {
      "text/plain": [
       "variety\n",
       "Pinot Noir                  14695\n",
       "Chardonnay                  12546\n",
       "Cabernet Sauvignon          10107\n",
       "Red Blend                    9635\n",
       "Bordeaux-style Red Blend     7878\n",
       "Riesling                     5588\n",
       "Sauvignon Blanc              5407\n",
       "Syrah                        4357\n",
       "Rosé                         4061\n",
       "Nebbiolo                     3277\n",
       "Merlot                       3230\n",
       "Sangiovese                   2957\n",
       "Zinfandel                    2907\n",
       "Malbec                       2863\n",
       "Portuguese Red               2671\n",
       "Name: description, dtype: int64"
      ]
     },
     "execution_count": 105,
     "metadata": {},
     "output_type": "execute_result"
    }
   ],
   "source": [
    "top_15_variety = variety[:15]\n",
    "top_15_variety"
   ]
  },
  {
   "cell_type": "code",
   "execution_count": 453,
   "metadata": {},
   "outputs": [
    {
     "data": {
      "image/png": "[encoded data removed]",
      "text/plain": [
       "<Figure size 432x288 with 1 Axes>"
      ]
     },
     "metadata": {
      "needs_background": "light"
     },
     "output_type": "display_data"
    }
   ],
   "source": [
    "fig, ax = plt.subplots()\n",
    "yvals = list(top_15_variety.index)\n",
    "xvals = top_15_variety.values\n",
    "plt.xticks(rotation='vertical',fontsize=14)\n",
    "ax.barh(yvals,xvals,color=colors[4])\n",
    "ax.tick_params(axis=\"y\", labelsize=14)\n",
    "ax.set_yticks(yvals)\n",
    "x_ticks = np.linspace(0,15000,7)\n",
    "ax.set_xticks(x_ticks)\n",
    "ax.set_ylabel(\"Variety\",fontsize=16)\n",
    "ax.set_xlabel(\"Count of Reviews\",fontsize=16)\n",
    "ax.set_title(\"Wine Variety\",fontsize=20,pad=10)\n",
    "ax.invert_yaxis();"
   ]
  },
  {
   "cell_type": "markdown",
   "metadata": {},
   "source": [
    "## Vintage"
   ]
  },
  {
   "cell_type": "code",
   "execution_count": 119,
   "metadata": {
    "scrolled": true
   },
   "outputs": [],
   "source": [
    "vintage = df.groupby('vintage').count()['description']\n",
    "#vintage.sort_values(ascending=False)"
   ]
  },
  {
   "cell_type": "code",
   "execution_count": 120,
   "metadata": {
    "scrolled": true
   },
   "outputs": [
    {
     "data": {
      "text/plain": [
       "vintage\n",
       "1904.0        1\n",
       "1907.0        1\n",
       "1912.0        7\n",
       "1919.0        1\n",
       "1927.0        2\n",
       "1929.0        8\n",
       "1931.0        1\n",
       "1934.0        1\n",
       "1935.0        1\n",
       "1939.0        2\n",
       "1941.0        1\n",
       "1945.0        1\n",
       "1947.0        1\n",
       "1952.0        2\n",
       "1954.0        1\n",
       "1957.0        2\n",
       "1961.0        1\n",
       "1963.0        3\n",
       "1964.0        2\n",
       "1965.0        1\n",
       "1966.0        2\n",
       "1967.0        1\n",
       "1968.0        2\n",
       "1969.0        1\n",
       "1973.0        1\n",
       "1974.0        1\n",
       "1976.0        1\n",
       "1977.0        1\n",
       "1978.0        2\n",
       "1980.0        2\n",
       "          ...  \n",
       "1989.0        7\n",
       "1990.0        5\n",
       "1991.0        5\n",
       "1992.0       16\n",
       "1993.0        3\n",
       "1994.0       23\n",
       "1995.0       54\n",
       "1996.0       68\n",
       "1997.0      303\n",
       "1998.0      551\n",
       "1999.0      642\n",
       "2000.0      756\n",
       "2001.0      687\n",
       "2002.0      361\n",
       "2003.0      576\n",
       "2004.0     1725\n",
       "2005.0     3498\n",
       "2006.0     5580\n",
       "2007.0     6760\n",
       "2008.0     7070\n",
       "2009.0     9337\n",
       "2010.0    11392\n",
       "2011.0    11746\n",
       "2012.0    14854\n",
       "2013.0    15671\n",
       "2014.0    16725\n",
       "2015.0    14741\n",
       "2016.0     9609\n",
       "2017.0     3534\n",
       "2018.0        6\n",
       "Name: description, Length: 67, dtype: int64"
      ]
     },
     "execution_count": 120,
     "metadata": {},
     "output_type": "execute_result"
    }
   ],
   "source": [
    "vintage"
   ]
  },
  {
   "cell_type": "code",
   "execution_count": 154,
   "metadata": {},
   "outputs": [
    {
     "data": {
      "text/plain": [
       "['1996',\n",
       " '1997',\n",
       " '1998',\n",
       " '1999',\n",
       " '2000',\n",
       " '2001',\n",
       " '2002',\n",
       " '2003',\n",
       " '2004',\n",
       " '2005',\n",
       " '2006',\n",
       " '2007',\n",
       " '2008',\n",
       " '2009',\n",
       " '2010',\n",
       " '2011',\n",
       " '2012',\n",
       " '2013',\n",
       " '2014',\n",
       " '2015',\n",
       " '2016',\n",
       " '2017',\n",
       " '2018']"
      ]
     },
     "execution_count": 154,
     "metadata": {},
     "output_type": "execute_result"
    }
   ],
   "source": [
    "years = list(vintage.index[44:])\n",
    "[str(val)[:-2] for val in years]"
   ]
  },
  {
   "cell_type": "code",
   "execution_count": 155,
   "metadata": {},
   "outputs": [
    {
     "data": {
      "text/plain": [
       "array([   68,   303,   551,   642,   756,   687,   361,   576,  1725,\n",
       "        3498,  5580,  6760,  7070,  9337, 11392, 11746, 14854, 15671,\n",
       "       16725, 14741,  9609,  3534,     6])"
      ]
     },
     "execution_count": 155,
     "metadata": {},
     "output_type": "execute_result"
    }
   ],
   "source": [
    "yvals"
   ]
  },
  {
   "cell_type": "code",
   "execution_count": 455,
   "metadata": {},
   "outputs": [
    {
     "data": {
      "image/png": "[encoded data removed]",
      "text/plain": [
       "<Figure size 432x288 with 1 Axes>"
      ]
     },
     "metadata": {
      "needs_background": "light"
     },
     "output_type": "display_data"
    }
   ],
   "source": [
    "years = list(vintage.index[44:])\n",
    "fig, ax = plt.subplots()\n",
    "xvals = [str(val)[:-2] for val in years]\n",
    "yvals = vintage.values[44:]\n",
    "plt.xticks(rotation='vertical',fontsize=14)\n",
    "ax.bar(xvals,yvals, color = colors[1])\n",
    "ax.tick_params(axis=\"y\", labelsize=14)\n",
    "ax.set_xticks(xvals)\n",
    "#x_ticks = np.linspace(1996,2017,6)\n",
    "y_ticks = np.linspace(0,20000,5)\n",
    "#ax.set_xticks(x_ticks)\n",
    "ax.set_yticks(y_ticks)\n",
    "ax.set_xlabel(\"Year\",fontsize=16)\n",
    "ax.set_ylabel(\"Count of Reviews\",fontsize=16)\n",
    "ax.set_title(\"Wine Vintage Years\",fontsize=20,pad=10);"
   ]
  },
  {
   "cell_type": "markdown",
   "metadata": {},
   "source": [
    "## Price vs Score"
   ]
  },
  {
   "cell_type": "code",
   "execution_count": 171,
   "metadata": {},
   "outputs": [],
   "source": [
    "df_cleaned = df[['price','points']]"
   ]
  },
  {
   "cell_type": "code",
   "execution_count": 172,
   "metadata": {},
   "outputs": [],
   "source": [
    "df_cleaned = df_cleaned.dropna()"
   ]
  },
  {
   "cell_type": "code",
   "execution_count": 173,
   "metadata": {
    "scrolled": true
   },
   "outputs": [
    {
     "name": "stdout",
     "output_type": "stream",
     "text": [
      "<class 'pandas.core.frame.DataFrame'>\n",
      "Int64Index: 131959 entries, 1 to 141616\n",
      "Data columns (total 2 columns):\n",
      "price     131959 non-null float64\n",
      "points    131959 non-null int64\n",
      "dtypes: float64(1), int64(1)\n",
      "memory usage: 3.0 MB\n"
     ]
    }
   ],
   "source": [
    "df_cleaned.info()"
   ]
  },
  {
   "cell_type": "code",
   "execution_count": 176,
   "metadata": {},
   "outputs": [],
   "source": [
    "df_cleaned = df_cleaned.sort_values(by='points', ascending=True)"
   ]
  },
  {
   "cell_type": "code",
   "execution_count": 177,
   "metadata": {},
   "outputs": [
    {
     "data": {
      "text/html": [
       "<div>\n",
       "<style scoped>\n",
       "    .dataframe tbody tr th:only-of-type {\n",
       "        vertical-align: middle;\n",
       "    }\n",
       "\n",
       "    .dataframe tbody tr th {\n",
       "        vertical-align: top;\n",
       "    }\n",
       "\n",
       "    .dataframe thead th {\n",
       "        text-align: right;\n",
       "    }\n",
       "</style>\n",
       "<table border=\"1\" class=\"dataframe\">\n",
       "  <thead>\n",
       "    <tr style=\"text-align: right;\">\n",
       "      <th></th>\n",
       "      <th>price</th>\n",
       "      <th>points</th>\n",
       "    </tr>\n",
       "  </thead>\n",
       "  <tbody>\n",
       "    <tr>\n",
       "      <th>48224</th>\n",
       "      <td>10.0</td>\n",
       "      <td>80</td>\n",
       "    </tr>\n",
       "    <tr>\n",
       "      <th>41182</th>\n",
       "      <td>19.0</td>\n",
       "      <td>80</td>\n",
       "    </tr>\n",
       "    <tr>\n",
       "      <th>39031</th>\n",
       "      <td>19.0</td>\n",
       "      <td>80</td>\n",
       "    </tr>\n",
       "    <tr>\n",
       "      <th>48225</th>\n",
       "      <td>12.0</td>\n",
       "      <td>80</td>\n",
       "    </tr>\n",
       "    <tr>\n",
       "      <th>118557</th>\n",
       "      <td>14.0</td>\n",
       "      <td>80</td>\n",
       "    </tr>\n",
       "  </tbody>\n",
       "</table>\n",
       "</div>"
      ],
      "text/plain": [
       "        price  points\n",
       "48224    10.0      80\n",
       "41182    19.0      80\n",
       "39031    19.0      80\n",
       "48225    12.0      80\n",
       "118557   14.0      80"
      ]
     },
     "execution_count": 177,
     "metadata": {},
     "output_type": "execute_result"
    }
   ],
   "source": [
    "df_cleaned.head()"
   ]
  },
  {
   "cell_type": "code",
   "execution_count": null,
   "metadata": {},
   "outputs": [],
   "source": [
    "figsize=(10, 6)"
   ]
  },
  {
   "cell_type": "code",
   "execution_count": 181,
   "metadata": {},
   "outputs": [],
   "source": [
    "df_pricepoints = df_cleaned.groupby('points').median()"
   ]
  },
  {
   "cell_type": "code",
   "execution_count": 458,
   "metadata": {},
   "outputs": [
    {
     "data": {
      "image/png": "[encoded data removed]",
      "text/plain": [
       "<Figure size 432x288 with 1 Axes>"
      ]
     },
     "metadata": {
      "needs_background": "light"
     },
     "output_type": "display_data"
    }
   ],
   "source": [
    "fig, ax = plt.subplots()\n",
    "xvals = df_pricepoints.index\n",
    "yvals = df_pricepoints.values\n",
    "ax.scatter(xvals,yvals,color=colors[2])\n",
    "ax.tick_params(axis=\"y\", labelsize=14)\n",
    "plt.xticks(rotation='vertical',fontsize=14)\n",
    "ax.set_xticks(xvals)\n",
    "#y_ticks = np.linspace(0,20000,5)\n",
    "#ax.set_yticks(y_ticks)\n",
    "ax.set_xlabel(\"Score\",fontsize=16)\n",
    "ax.set_ylabel(\"Price ($)\",fontsize=16)\n",
    "ax.set_title(\"Median Price Per Score\",fontsize=20,pad=10);"
   ]
  },
  {
   "cell_type": "code",
   "execution_count": 195,
   "metadata": {},
   "outputs": [
    {
     "data": {
      "image/png": "[encoded data removed]",
      "text/plain": [
       "<Figure size 864x576 with 1 Axes>"
      ]
     },
     "metadata": {
      "needs_background": "light"
     },
     "output_type": "display_data"
    }
   ],
   "source": [
    "fig, ax = plt.subplots(figsize=(12,8))\n",
    "ax.violinplot(df_cleaned.price, vert=False)\n",
    "#ax.set_xlabel(\"Score\",fontsize=16)\n",
    "ax.set_xlabel(\"Price ($)\",fontsize=16)\n",
    "plt.tick_params(\n",
    "    axis='y',         \n",
    "    left=False,\n",
    "    labelleft=False)\n",
    "ax.set_title(\"Wine Price\",fontsize=20,pad=10);"
   ]
  },
  {
   "cell_type": "markdown",
   "metadata": {},
   "source": [
    "## Taster"
   ]
  },
  {
   "cell_type": "code",
   "execution_count": 15,
   "metadata": {
    "scrolled": true
   },
   "outputs": [
    {
     "data": {
      "text/plain": [
       "taster_twitter_handle\n",
       "@vossroger          28010\n",
       "@wineschach         16084\n",
       "@kerinokeefe        12724\n",
       "@vboone             10844\n",
       "@paulgwine          10153\n",
       "@mattkettmann        7625\n",
       "@wawinereport        5633\n",
       "@gordone_cellars     5151\n",
       "@JoeCz               4766\n",
       "@AnneInVino          4456\n",
       "@laurbuzz            2004\n",
       "@worldwineguys       1152\n",
       "@suskostrzewa        1061\n",
       "@winewchristina       666\n",
       "@apatrone23           471\n",
       "@bkfiona              168\n",
       "Name: description, dtype: int64"
      ]
     },
     "execution_count": 15,
     "metadata": {},
     "output_type": "execute_result"
    }
   ],
   "source": [
    "taster = df.groupby('taster_twitter_handle').count()['description']\n",
    "taster.sort_values(ascending=False)"
   ]
  },
  {
   "cell_type": "code",
   "execution_count": 16,
   "metadata": {},
   "outputs": [
    {
     "data": {
      "text/plain": [
       "taster_name\n",
       "Roger Voss            28010\n",
       "Michael Schachner     16084\n",
       "Kerin O’Keefe         12724\n",
       "Virginie Boone        10844\n",
       "Paul Gregutt          10153\n",
       "Matt Kettmann          7625\n",
       "Sean P. Sullivan       5633\n",
       "Jim Gordon             5151\n",
       "Anna Lee C. Iijima     5075\n",
       "Joe Czerwinski         4766\n",
       "Anne Krebiehl MW       4456\n",
       "Lauren Buzzeo          2004\n",
       "Susan Kostrzewa        1061\n",
       "Alexander Peartree      854\n",
       "Christina Pickard       666\n",
       "Mike DeSimone           595\n",
       "Jeff Jenssen            557\n",
       "Carrie Dykes            274\n",
       "Fiona Adams             168\n",
       "Name: description, dtype: int64"
      ]
     },
     "execution_count": 16,
     "metadata": {},
     "output_type": "execute_result"
    }
   ],
   "source": [
    "taster = df.groupby('taster_name').count()['description']\n",
    "taster.sort_values(ascending=False)"
   ]
  },
  {
   "cell_type": "code",
   "execution_count": 462,
   "metadata": {},
   "outputs": [
    {
     "data": {
      "text/plain": [
       "19"
      ]
     },
     "execution_count": 462,
     "metadata": {},
     "output_type": "execute_result"
    }
   ],
   "source": [
    "len(taster)"
   ]
  },
  {
   "cell_type": "markdown",
   "metadata": {},
   "source": [
    "## Analyzing Description"
   ]
  },
  {
   "cell_type": "code",
   "execution_count": 17,
   "metadata": {},
   "outputs": [],
   "source": [
    "df_desc = df.description"
   ]
  },
  {
   "cell_type": "code",
   "execution_count": 21,
   "metadata": {
    "scrolled": false
   },
   "outputs": [
    {
     "data": {
      "text/plain": [
       "0    Aromas include tropical fruit, broom, brimston...\n",
       "1    This is ripe and fruity, a wine that is smooth...\n",
       "2    Tart and snappy, the flavors of lime flesh and...\n",
       "3    Pineapple rind, lemon pith and orange blossom ...\n",
       "4    Much like the regular bottling from 2012, this...\n",
       "Name: description, dtype: object"
      ]
     },
     "execution_count": 21,
     "metadata": {},
     "output_type": "execute_result"
    }
   ],
   "source": [
    "df_desc.head()"
   ]
  },
  {
   "cell_type": "code",
   "execution_count": 22,
   "metadata": {},
   "outputs": [],
   "source": [
    "df_desc = df_desc.str.lower()\n",
    "df_desc = df_desc.str.replace('[^a-zA-Z0-9 \\n\\.]', ' ')\n",
    "df_desc = df_desc.str.replace('\\d', ' ')\n",
    "df_desc = df_desc.str.replace('.', ' ')"
   ]
  },
  {
   "cell_type": "code",
   "execution_count": 23,
   "metadata": {},
   "outputs": [
    {
     "data": {
      "text/plain": [
       "'this is ripe and fruity  a wine that is smooth while still structured  firm tannins are filled out with juicy red berry fruits and freshened with acidity  it s  already drinkable  although it will certainly be better from      '"
      ]
     },
     "execution_count": 23,
     "metadata": {},
     "output_type": "execute_result"
    }
   ],
   "source": [
    "df_desc.loc[1]"
   ]
  },
  {
   "cell_type": "code",
   "execution_count": 24,
   "metadata": {
    "scrolled": true
   },
   "outputs": [
    {
     "data": {
      "text/plain": [
       "'aromas include tropical fruit  broom  brimstone and dried herb  the palate isn t overly expressive  offering unripened apple  citrus and dried sage alongside brisk acidity '"
      ]
     },
     "execution_count": 24,
     "metadata": {},
     "output_type": "execute_result"
    }
   ],
   "source": [
    "df_desc[0]"
   ]
  },
  {
   "cell_type": "markdown",
   "metadata": {},
   "source": [
    "## Stemming / Tokenization"
   ]
  },
  {
   "cell_type": "code",
   "execution_count": 25,
   "metadata": {},
   "outputs": [],
   "source": [
    "desc = df_desc"
   ]
  },
  {
   "cell_type": "code",
   "execution_count": 26,
   "metadata": {
    "scrolled": true
   },
   "outputs": [
    {
     "data": {
      "text/plain": [
       "0         aromas include tropical fruit  broom  brimston...\n",
       "1         this is ripe and fruity  a wine that is smooth...\n",
       "2         tart and snappy  the flavors of lime flesh and...\n",
       "3         pineapple rind  lemon pith and orange blossom ...\n",
       "4         much like the regular bottling from       this...\n",
       "5         blackberry and raspberry aromas show a typical...\n",
       "6         here s a bright  informal red that opens with ...\n",
       "7         this dry and restrained wine offers spice in p...\n",
       "8         savory dried thyme notes accent sunnier flavor...\n",
       "9         this has great depth of flavor with its fresh ...\n",
       "10        soft  supple plum envelopes an oaky structure ...\n",
       "11        this is a dry wine  very spicy  with a tight  ...\n",
       "12        slightly reduced  this wine offers a chalky  t...\n",
       "13        this is dominated by oak and oak driven aromas...\n",
       "14        building on     years and six generations of w...\n",
       "15        zesty orange peels and apple notes abound in t...\n",
       "16        baked plum  molasses  balsamic vinegar and che...\n",
       "17        raw black cherry aromas are direct and simple ...\n",
       "18        desiccated blackberry  leather  charred wood a...\n",
       "19        red fruit aromas pervade on the nose  with cig...\n",
       "20        ripe aromas of dark berries mingle with ample ...\n",
       "21        a sleek mix of tart berry  stem and herb  alon...\n",
       "22        delicate aromas recall white flower and citrus...\n",
       "23        this wine from the geneseo district offers aro...\n",
       "24        aromas of prune  blackcurrant  toast and oak c...\n",
       "25        oak and earth intermingle around robust aromas...\n",
       "26        pretty aromas of yellow flower and stone fruit...\n",
       "27        aromas recall ripe dark berry  toast and a whi...\n",
       "28        aromas suggest mature berry  scorched earth  a...\n",
       "29        clarksburg is becoming a haven for chenin blan...\n",
       "                                ...                        \n",
       "141587    the      attunga expresses aromas of blueberri...\n",
       "141588    bright and fresh aromas of pomelo pith  grapef...\n",
       "141589    batuta  named after the baton used by an orche...\n",
       "141590    this monumental wine is one for the ages or at...\n",
       "141591    the new sparkling wine project from trisaetum ...\n",
       "141592    the weber vineyard  originally planted in     ...\n",
       "141593    aromas of struck matches and smoke are pronoun...\n",
       "141594    a beautifully pure topnote of black cherry sin...\n",
       "141595    this shows beatutifully aromatic notes of fres...\n",
       "141596    soft and alluring  this wine opens in bursts o...\n",
       "141597    concentrated aromas of black cherry meet with ...\n",
       "141598    there is great depth of color and viscosity on...\n",
       "141599    tangy and high in acidity  this red fruit rich...\n",
       "141600    beautifully sculpted and well balanced  this f...\n",
       "141601    this wine s nose is rather shy  but its juicy ...\n",
       "141602    spicy  almost sweet  oak aromas and flavors me...\n",
       "141603    this is      varietal  the fruit for this wine...\n",
       "141604    medium bodied and very generous in flavor  thi...\n",
       "141605    a gorgeous and perfumed french oak aroma joins...\n",
       "141606    this robust wine hails from a    acre site at ...\n",
       "141607    this is a gutsy wine with great structure and ...\n",
       "141608    this sans soufre  or without sulfur  bottling ...\n",
       "141609    tangy and fresh  this organically grown wine o...\n",
       "141610    a firm and tannic wine rich in black fruits an...\n",
       "141611    broad aromas of tangerine rind  tangerine blos...\n",
       "141612    this top red cuv e from the historic bargemone...\n",
       "141613    this is a hugely structured  boldly layered wi...\n",
       "141614    from estate grown pinot noir and chardonnay  t...\n",
       "141615    whiffs of mediterranean herb and crushed stone...\n",
       "141616    buttered toast  oak  caramel  vanilla  white p...\n",
       "Name: description, Length: 141617, dtype: object"
      ]
     },
     "execution_count": 26,
     "metadata": {},
     "output_type": "execute_result"
    }
   ],
   "source": [
    "desc"
   ]
  },
  {
   "cell_type": "code",
   "execution_count": 27,
   "metadata": {
    "scrolled": true
   },
   "outputs": [
    {
     "ename": "KeyboardInterrupt",
     "evalue": "",
     "output_type": "error",
     "traceback": [
      "\u001b[0;31m---------------------------------------------------------------------------\u001b[0m",
      "\u001b[0;31mKeyboardInterrupt\u001b[0m                         Traceback (most recent call last)",
      "\u001b[0;32m<ipython-input-27-e2171f0450eb>\u001b[0m in \u001b[0;36m<module>\u001b[0;34m\u001b[0m\n\u001b[0;32m----> 1\u001b[0;31m \u001b[0mtokenized\u001b[0m \u001b[0;34m=\u001b[0m \u001b[0;34m[\u001b[0m\u001b[0mword_tokenize\u001b[0m\u001b[0;34m(\u001b[0m\u001b[0mcontent\u001b[0m\u001b[0;34m.\u001b[0m\u001b[0mlower\u001b[0m\u001b[0;34m(\u001b[0m\u001b[0;34m)\u001b[0m\u001b[0;34m)\u001b[0m \u001b[0;32mfor\u001b[0m \u001b[0mcontent\u001b[0m \u001b[0;32min\u001b[0m \u001b[0mdesc\u001b[0m\u001b[0;34m]\u001b[0m\u001b[0;34m\u001b[0m\u001b[0;34m\u001b[0m\u001b[0m\n\u001b[0m",
      "\u001b[0;32m<ipython-input-27-e2171f0450eb>\u001b[0m in \u001b[0;36m<listcomp>\u001b[0;34m(.0)\u001b[0m\n\u001b[0;32m----> 1\u001b[0;31m \u001b[0mtokenized\u001b[0m \u001b[0;34m=\u001b[0m \u001b[0;34m[\u001b[0m\u001b[0mword_tokenize\u001b[0m\u001b[0;34m(\u001b[0m\u001b[0mcontent\u001b[0m\u001b[0;34m.\u001b[0m\u001b[0mlower\u001b[0m\u001b[0;34m(\u001b[0m\u001b[0;34m)\u001b[0m\u001b[0;34m)\u001b[0m \u001b[0;32mfor\u001b[0m \u001b[0mcontent\u001b[0m \u001b[0;32min\u001b[0m \u001b[0mdesc\u001b[0m\u001b[0;34m]\u001b[0m\u001b[0;34m\u001b[0m\u001b[0;34m\u001b[0m\u001b[0m\n\u001b[0m",
      "\u001b[0;32m//anaconda3/lib/python3.7/site-packages/nltk/tokenize/__init__.py\u001b[0m in \u001b[0;36mword_tokenize\u001b[0;34m(text, language, preserve_line)\u001b[0m\n\u001b[1;32m    144\u001b[0m     \u001b[0msentences\u001b[0m \u001b[0;34m=\u001b[0m \u001b[0;34m[\u001b[0m\u001b[0mtext\u001b[0m\u001b[0;34m]\u001b[0m \u001b[0;32mif\u001b[0m \u001b[0mpreserve_line\u001b[0m \u001b[0;32melse\u001b[0m \u001b[0msent_tokenize\u001b[0m\u001b[0;34m(\u001b[0m\u001b[0mtext\u001b[0m\u001b[0;34m,\u001b[0m \u001b[0mlanguage\u001b[0m\u001b[0;34m)\u001b[0m\u001b[0;34m\u001b[0m\u001b[0;34m\u001b[0m\u001b[0m\n\u001b[1;32m    145\u001b[0m     return [\n\u001b[0;32m--> 146\u001b[0;31m         \u001b[0mtoken\u001b[0m \u001b[0;32mfor\u001b[0m \u001b[0msent\u001b[0m \u001b[0;32min\u001b[0m \u001b[0msentences\u001b[0m \u001b[0;32mfor\u001b[0m \u001b[0mtoken\u001b[0m \u001b[0;32min\u001b[0m \u001b[0m_treebank_word_tokenizer\u001b[0m\u001b[0;34m.\u001b[0m\u001b[0mtokenize\u001b[0m\u001b[0;34m(\u001b[0m\u001b[0msent\u001b[0m\u001b[0;34m)\u001b[0m\u001b[0;34m\u001b[0m\u001b[0;34m\u001b[0m\u001b[0m\n\u001b[0m\u001b[1;32m    147\u001b[0m     ]\n",
      "\u001b[0;32m//anaconda3/lib/python3.7/site-packages/nltk/tokenize/__init__.py\u001b[0m in \u001b[0;36m<listcomp>\u001b[0;34m(.0)\u001b[0m\n\u001b[1;32m    144\u001b[0m     \u001b[0msentences\u001b[0m \u001b[0;34m=\u001b[0m \u001b[0;34m[\u001b[0m\u001b[0mtext\u001b[0m\u001b[0;34m]\u001b[0m \u001b[0;32mif\u001b[0m \u001b[0mpreserve_line\u001b[0m \u001b[0;32melse\u001b[0m \u001b[0msent_tokenize\u001b[0m\u001b[0;34m(\u001b[0m\u001b[0mtext\u001b[0m\u001b[0;34m,\u001b[0m \u001b[0mlanguage\u001b[0m\u001b[0;34m)\u001b[0m\u001b[0;34m\u001b[0m\u001b[0;34m\u001b[0m\u001b[0m\n\u001b[1;32m    145\u001b[0m     return [\n\u001b[0;32m--> 146\u001b[0;31m         \u001b[0mtoken\u001b[0m \u001b[0;32mfor\u001b[0m \u001b[0msent\u001b[0m \u001b[0;32min\u001b[0m \u001b[0msentences\u001b[0m \u001b[0;32mfor\u001b[0m \u001b[0mtoken\u001b[0m \u001b[0;32min\u001b[0m \u001b[0m_treebank_word_tokenizer\u001b[0m\u001b[0;34m.\u001b[0m\u001b[0mtokenize\u001b[0m\u001b[0;34m(\u001b[0m\u001b[0msent\u001b[0m\u001b[0;34m)\u001b[0m\u001b[0;34m\u001b[0m\u001b[0;34m\u001b[0m\u001b[0m\n\u001b[0m\u001b[1;32m    147\u001b[0m     ]\n",
      "\u001b[0;32m//anaconda3/lib/python3.7/site-packages/nltk/tokenize/treebank.py\u001b[0m in \u001b[0;36mtokenize\u001b[0;34m(self, text, convert_parentheses, return_str)\u001b[0m\n\u001b[1;32m    138\u001b[0m \u001b[0;34m\u001b[0m\u001b[0m\n\u001b[1;32m    139\u001b[0m         \u001b[0;32mfor\u001b[0m \u001b[0mregexp\u001b[0m\u001b[0;34m,\u001b[0m \u001b[0msubstitution\u001b[0m \u001b[0;32min\u001b[0m \u001b[0mself\u001b[0m\u001b[0;34m.\u001b[0m\u001b[0mENDING_QUOTES\u001b[0m\u001b[0;34m:\u001b[0m\u001b[0;34m\u001b[0m\u001b[0;34m\u001b[0m\u001b[0m\n\u001b[0;32m--> 140\u001b[0;31m             \u001b[0mtext\u001b[0m \u001b[0;34m=\u001b[0m \u001b[0mregexp\u001b[0m\u001b[0;34m.\u001b[0m\u001b[0msub\u001b[0m\u001b[0;34m(\u001b[0m\u001b[0msubstitution\u001b[0m\u001b[0;34m,\u001b[0m \u001b[0mtext\u001b[0m\u001b[0;34m)\u001b[0m\u001b[0;34m\u001b[0m\u001b[0;34m\u001b[0m\u001b[0m\n\u001b[0m\u001b[1;32m    141\u001b[0m \u001b[0;34m\u001b[0m\u001b[0m\n\u001b[1;32m    142\u001b[0m         \u001b[0;32mfor\u001b[0m \u001b[0mregexp\u001b[0m \u001b[0;32min\u001b[0m \u001b[0mself\u001b[0m\u001b[0;34m.\u001b[0m\u001b[0mCONTRACTIONS2\u001b[0m\u001b[0;34m:\u001b[0m\u001b[0;34m\u001b[0m\u001b[0;34m\u001b[0m\u001b[0m\n",
      "\u001b[0;31mKeyboardInterrupt\u001b[0m: "
     ]
    }
   ],
   "source": [
    "tokenized = [word_tokenize(content.lower()) for content in desc]"
   ]
  },
  {
   "cell_type": "code",
   "execution_count": null,
   "metadata": {},
   "outputs": [],
   "source": [
    "tokenized"
   ]
  },
  {
   "cell_type": "code",
   "execution_count": null,
   "metadata": {},
   "outputs": [],
   "source": [
    "stop = set(stopwords.words('english'))\n",
    "docs = [[word for word in words if word not in stop]\n",
    "        for words in tokenized]"
   ]
  },
  {
   "cell_type": "code",
   "execution_count": 39,
   "metadata": {},
   "outputs": [],
   "source": [
    "porter = PorterStemmer()\n",
    "snowball = SnowballStemmer('english')\n",
    "wordnet = WordNetLemmatizer()"
   ]
  },
  {
   "cell_type": "code",
   "execution_count": null,
   "metadata": {},
   "outputs": [],
   "source": [
    "docs_porter = [[porter.stem(word) for word in words]\n",
    "                for words in docs]\n",
    "docs_snowball = [[snowball.stem(word) for word in words]\n",
    "                for words in docs]\n",
    "docs_wordnet = [[wordnet.lemmatize(word) for word in words]\n",
    "                for words in docs]"
   ]
  },
  {
   "cell_type": "code",
   "execution_count": null,
   "metadata": {},
   "outputs": [],
   "source": [
    "docs_porter"
   ]
  },
  {
   "cell_type": "code",
   "execution_count": null,
   "metadata": {},
   "outputs": [],
   "source": [
    "print(\"{0}\\t{1}\\t{2}\\t{3}\".format(\"word\", \"porter\", \"snowball\", \"lemmatizer\"))\n",
    "print(\"-\" * 20)\n",
    "for i in range(min(len(docs_porter[0]), len(docs_snowball[0]), len(docs_wordnet[0]))):\n",
    "    p, s, w = docs_porter[0][i], docs_snowball[0][i], docs_wordnet[0][i]\n",
    "    if len(set((p, s, w))) != 1:\n",
    "        print(\"{0}\\t{1}\\t{2}\\t{3}\".format(docs[0][i], p, s, w))"
   ]
  },
  {
   "cell_type": "code",
   "execution_count": 31,
   "metadata": {},
   "outputs": [],
   "source": [
    "def tokenize(doc):\n",
    "    '''\n",
    "    INPUT: string\n",
    "    OUTPUT: list of strings\n",
    "\n",
    "    Tokenize and stem/lemmatize the document.\n",
    "    '''\n",
    "    return [wordnet.lemmatize(word) for word in word_tokenize(doc.lower())]"
   ]
  },
  {
   "cell_type": "code",
   "execution_count": 71,
   "metadata": {},
   "outputs": [],
   "source": [
    "from sklearn.feature_extraction import stop_words\n",
    "stop = list(stop_words.ENGLISH_STOP_WORDS)\n",
    "additional_stop = ['ha', 'le', 'u', 'wa','s','t','s','r','ro','wine','flavor','aromas','finish', 'palate', 'note', 'nose', 'drink', 'ofcut', 'feeeling']\n",
    "for val in additional_stop:\n",
    "    stop.append(val)\n",
    "stop = frozenset(stop)"
   ]
  },
  {
   "cell_type": "code",
   "execution_count": 72,
   "metadata": {},
   "outputs": [
    {
     "data": {
      "text/plain": [
       "frozenset({'a',\n",
       "           'about',\n",
       "           'above',\n",
       "           'across',\n",
       "           'after',\n",
       "           'afterwards',\n",
       "           'again',\n",
       "           'against',\n",
       "           'all',\n",
       "           'almost',\n",
       "           'alone',\n",
       "           'along',\n",
       "           'already',\n",
       "           'also',\n",
       "           'although',\n",
       "           'always',\n",
       "           'am',\n",
       "           'among',\n",
       "           'amongst',\n",
       "           'amoungst',\n",
       "           'amount',\n",
       "           'an',\n",
       "           'and',\n",
       "           'another',\n",
       "           'any',\n",
       "           'anyhow',\n",
       "           'anyone',\n",
       "           'anything',\n",
       "           'anyway',\n",
       "           'anywhere',\n",
       "           'are',\n",
       "           'aromas',\n",
       "           'around',\n",
       "           'as',\n",
       "           'at',\n",
       "           'back',\n",
       "           'be',\n",
       "           'became',\n",
       "           'because',\n",
       "           'become',\n",
       "           'becomes',\n",
       "           'becoming',\n",
       "           'been',\n",
       "           'before',\n",
       "           'beforehand',\n",
       "           'behind',\n",
       "           'being',\n",
       "           'below',\n",
       "           'beside',\n",
       "           'besides',\n",
       "           'between',\n",
       "           'beyond',\n",
       "           'bill',\n",
       "           'both',\n",
       "           'bottom',\n",
       "           'but',\n",
       "           'by',\n",
       "           'call',\n",
       "           'can',\n",
       "           'cannot',\n",
       "           'cant',\n",
       "           'co',\n",
       "           'con',\n",
       "           'could',\n",
       "           'couldnt',\n",
       "           'cry',\n",
       "           'de',\n",
       "           'describe',\n",
       "           'detail',\n",
       "           'do',\n",
       "           'done',\n",
       "           'down',\n",
       "           'drink',\n",
       "           'due',\n",
       "           'during',\n",
       "           'each',\n",
       "           'eg',\n",
       "           'eight',\n",
       "           'either',\n",
       "           'eleven',\n",
       "           'else',\n",
       "           'elsewhere',\n",
       "           'empty',\n",
       "           'enough',\n",
       "           'etc',\n",
       "           'even',\n",
       "           'ever',\n",
       "           'every',\n",
       "           'everyone',\n",
       "           'everything',\n",
       "           'everywhere',\n",
       "           'except',\n",
       "           'feeeling',\n",
       "           'few',\n",
       "           'fifteen',\n",
       "           'fifty',\n",
       "           'fill',\n",
       "           'find',\n",
       "           'finish',\n",
       "           'fire',\n",
       "           'first',\n",
       "           'five',\n",
       "           'flavor',\n",
       "           'for',\n",
       "           'former',\n",
       "           'formerly',\n",
       "           'forty',\n",
       "           'found',\n",
       "           'four',\n",
       "           'from',\n",
       "           'front',\n",
       "           'full',\n",
       "           'further',\n",
       "           'get',\n",
       "           'give',\n",
       "           'go',\n",
       "           'ha',\n",
       "           'had',\n",
       "           'has',\n",
       "           'hasnt',\n",
       "           'have',\n",
       "           'he',\n",
       "           'hence',\n",
       "           'her',\n",
       "           'here',\n",
       "           'hereafter',\n",
       "           'hereby',\n",
       "           'herein',\n",
       "           'hereupon',\n",
       "           'hers',\n",
       "           'herself',\n",
       "           'him',\n",
       "           'himself',\n",
       "           'his',\n",
       "           'how',\n",
       "           'however',\n",
       "           'hundred',\n",
       "           'i',\n",
       "           'ie',\n",
       "           'if',\n",
       "           'in',\n",
       "           'inc',\n",
       "           'indeed',\n",
       "           'interest',\n",
       "           'into',\n",
       "           'is',\n",
       "           'it',\n",
       "           'its',\n",
       "           'itself',\n",
       "           'keep',\n",
       "           'last',\n",
       "           'latter',\n",
       "           'latterly',\n",
       "           'le',\n",
       "           'least',\n",
       "           'less',\n",
       "           'ltd',\n",
       "           'made',\n",
       "           'many',\n",
       "           'may',\n",
       "           'me',\n",
       "           'meanwhile',\n",
       "           'might',\n",
       "           'mill',\n",
       "           'mine',\n",
       "           'more',\n",
       "           'moreover',\n",
       "           'most',\n",
       "           'mostly',\n",
       "           'move',\n",
       "           'much',\n",
       "           'must',\n",
       "           'my',\n",
       "           'myself',\n",
       "           'name',\n",
       "           'namely',\n",
       "           'neither',\n",
       "           'never',\n",
       "           'nevertheless',\n",
       "           'next',\n",
       "           'nine',\n",
       "           'no',\n",
       "           'nobody',\n",
       "           'none',\n",
       "           'noone',\n",
       "           'nor',\n",
       "           'nose',\n",
       "           'not',\n",
       "           'note',\n",
       "           'nothing',\n",
       "           'now',\n",
       "           'nowhere',\n",
       "           'of',\n",
       "           'ofcut',\n",
       "           'off',\n",
       "           'often',\n",
       "           'on',\n",
       "           'once',\n",
       "           'one',\n",
       "           'only',\n",
       "           'onto',\n",
       "           'or',\n",
       "           'other',\n",
       "           'others',\n",
       "           'otherwise',\n",
       "           'our',\n",
       "           'ours',\n",
       "           'ourselves',\n",
       "           'out',\n",
       "           'over',\n",
       "           'own',\n",
       "           'palate',\n",
       "           'part',\n",
       "           'per',\n",
       "           'perhaps',\n",
       "           'please',\n",
       "           'put',\n",
       "           'r',\n",
       "           'rather',\n",
       "           're',\n",
       "           'ro',\n",
       "           's',\n",
       "           'same',\n",
       "           'see',\n",
       "           'seem',\n",
       "           'seemed',\n",
       "           'seeming',\n",
       "           'seems',\n",
       "           'serious',\n",
       "           'several',\n",
       "           'she',\n",
       "           'should',\n",
       "           'show',\n",
       "           'side',\n",
       "           'since',\n",
       "           'sincere',\n",
       "           'six',\n",
       "           'sixty',\n",
       "           'so',\n",
       "           'some',\n",
       "           'somehow',\n",
       "           'someone',\n",
       "           'something',\n",
       "           'sometime',\n",
       "           'sometimes',\n",
       "           'somewhere',\n",
       "           'still',\n",
       "           'such',\n",
       "           'system',\n",
       "           't',\n",
       "           'take',\n",
       "           'ten',\n",
       "           'than',\n",
       "           'that',\n",
       "           'the',\n",
       "           'their',\n",
       "           'them',\n",
       "           'themselves',\n",
       "           'then',\n",
       "           'thence',\n",
       "           'there',\n",
       "           'thereafter',\n",
       "           'thereby',\n",
       "           'therefore',\n",
       "           'therein',\n",
       "           'thereupon',\n",
       "           'these',\n",
       "           'they',\n",
       "           'thick',\n",
       "           'thin',\n",
       "           'third',\n",
       "           'this',\n",
       "           'those',\n",
       "           'though',\n",
       "           'three',\n",
       "           'through',\n",
       "           'throughout',\n",
       "           'thru',\n",
       "           'thus',\n",
       "           'to',\n",
       "           'together',\n",
       "           'too',\n",
       "           'top',\n",
       "           'toward',\n",
       "           'towards',\n",
       "           'twelve',\n",
       "           'twenty',\n",
       "           'two',\n",
       "           'u',\n",
       "           'un',\n",
       "           'under',\n",
       "           'until',\n",
       "           'up',\n",
       "           'upon',\n",
       "           'us',\n",
       "           'very',\n",
       "           'via',\n",
       "           'wa',\n",
       "           'was',\n",
       "           'we',\n",
       "           'well',\n",
       "           'were',\n",
       "           'what',\n",
       "           'whatever',\n",
       "           'when',\n",
       "           'whence',\n",
       "           'whenever',\n",
       "           'where',\n",
       "           'whereafter',\n",
       "           'whereas',\n",
       "           'whereby',\n",
       "           'wherein',\n",
       "           'whereupon',\n",
       "           'wherever',\n",
       "           'whether',\n",
       "           'which',\n",
       "           'while',\n",
       "           'whither',\n",
       "           'who',\n",
       "           'whoever',\n",
       "           'whole',\n",
       "           'whom',\n",
       "           'whose',\n",
       "           'why',\n",
       "           'will',\n",
       "           'wine',\n",
       "           'with',\n",
       "           'within',\n",
       "           'without',\n",
       "           'would',\n",
       "           'yet',\n",
       "           'you',\n",
       "           'your',\n",
       "           'yours',\n",
       "           'yourself',\n",
       "           'yourselves'})"
      ]
     },
     "execution_count": 72,
     "metadata": {},
     "output_type": "execute_result"
    }
   ],
   "source": [
    "stop"
   ]
  },
  {
   "cell_type": "code",
   "execution_count": 49,
   "metadata": {},
   "outputs": [
    {
     "name": "stderr",
     "output_type": "stream",
     "text": [
      "//anaconda3/lib/python3.7/site-packages/sklearn/feature_extraction/text.py:300: UserWarning: Your stop_words may be inconsistent with your preprocessing. Tokenizing the stop words generated tokens ['aroma'] not in stop_words.\n",
      "  'stop_words.' % sorted(inconsistent))\n"
     ]
    }
   ],
   "source": [
    "countvect = CountVectorizer(stop_words=stop, tokenizer=tokenize)\n",
    "count_vectorized = countvect.fit_transform(desc)"
   ]
  },
  {
   "cell_type": "code",
   "execution_count": 41,
   "metadata": {},
   "outputs": [],
   "source": [
    "words = countvect.get_feature_names()"
   ]
  },
  {
   "cell_type": "code",
   "execution_count": 42,
   "metadata": {},
   "outputs": [
    {
     "data": {
      "text/plain": [
       "['aa',\n",
       " 'aacacia',\n",
       " 'aand',\n",
       " 'aarde',\n",
       " 'aaron',\n",
       " 'ab',\n",
       " 'abacela',\n",
       " 'abadal',\n",
       " 'abadia',\n",
       " 'abandon',\n",
       " 'abandoned',\n",
       " 'abate',\n",
       " 'abbazia',\n",
       " 'abbess',\n",
       " 'abbey',\n",
       " 'abboccato',\n",
       " 'abbot',\n",
       " 'abbott',\n",
       " 'abbreviated',\n",
       " 'abc',\n",
       " 'abeille',\n",
       " 'abeilles',\n",
       " 'abeja',\n",
       " 'abel',\n",
       " 'abele',\n",
       " 'abelis',\n",
       " 'abernathy',\n",
       " 'aberrant',\n",
       " 'abetina',\n",
       " 'abeyance',\n",
       " 'abide',\n",
       " 'abiding',\n",
       " 'abilio',\n",
       " 'ability',\n",
       " 'abiouness',\n",
       " 'able',\n",
       " 'ably',\n",
       " 'abnormal',\n",
       " 'abnormally',\n",
       " 'aboard',\n",
       " 'abondante',\n",
       " 'abord',\n",
       " 'aboriginal',\n",
       " 'abound',\n",
       " 'abounding',\n",
       " 'abounds',\n",
       " 'abouriou',\n",
       " 'abovde',\n",
       " 'abraham',\n",
       " 'abrasive',\n",
       " 'abrasively',\n",
       " 'abrasiveness',\n",
       " 'abraxas',\n",
       " 'abrazo',\n",
       " 'abreu',\n",
       " 'abrie',\n",
       " 'abrigo',\n",
       " 'abroad',\n",
       " 'abrupt',\n",
       " 'abruptly',\n",
       " 'abruptness',\n",
       " 'abruzzo',\n",
       " 'absberg',\n",
       " 'absence',\n",
       " 'absense',\n",
       " 'absent',\n",
       " 'absinthe',\n",
       " 'absolute',\n",
       " 'absolutely',\n",
       " 'absorb',\n",
       " 'absorbed',\n",
       " 'absorbing',\n",
       " 'absorbingly',\n",
       " 'absorbs',\n",
       " 'absurd',\n",
       " 'absurdly',\n",
       " 'abtsberg',\n",
       " 'abtsfronhof',\n",
       " 'abundance',\n",
       " 'abundant',\n",
       " 'abundantly',\n",
       " 'abupt',\n",
       " 'abused',\n",
       " 'abuts',\n",
       " 'abuzz',\n",
       " 'abv',\n",
       " 'ac',\n",
       " 'acacia',\n",
       " 'academic',\n",
       " 'acadia',\n",
       " 'acai',\n",
       " 'acate',\n",
       " 'acccessible',\n",
       " 'accelerate',\n",
       " 'accelerates',\n",
       " 'accelerating',\n",
       " 'accent',\n",
       " 'accented',\n",
       " 'accenting',\n",
       " 'accentuate',\n",
       " 'accentuated',\n",
       " 'accentuates',\n",
       " 'accentuating',\n",
       " 'accept',\n",
       " 'acceptability',\n",
       " 'acceptable',\n",
       " 'acceptably',\n",
       " 'acceptance',\n",
       " 'accepted',\n",
       " 'accesible',\n",
       " 'access',\n",
       " 'accessable',\n",
       " 'accessibile',\n",
       " 'accessibility',\n",
       " 'accessible',\n",
       " 'accessibly',\n",
       " 'accessorized',\n",
       " 'accetnes',\n",
       " 'accident',\n",
       " 'accidental',\n",
       " 'acciderba',\n",
       " 'acclaimed',\n",
       " 'accolade',\n",
       " 'accommodate',\n",
       " 'accommodates',\n",
       " 'accommodating',\n",
       " 'accompained',\n",
       " 'accompanied',\n",
       " 'accompanies',\n",
       " 'accompaniment',\n",
       " 'accompany',\n",
       " 'accompanying',\n",
       " 'accomplish',\n",
       " 'accomplished',\n",
       " 'accomplishes',\n",
       " 'accomplishment',\n",
       " 'accompnaied',\n",
       " 'accord',\n",
       " 'accordance',\n",
       " 'accorded',\n",
       " 'according',\n",
       " 'accordingly',\n",
       " 'accordini',\n",
       " 'accordion',\n",
       " 'account',\n",
       " 'accountant',\n",
       " 'accounted',\n",
       " 'accounting',\n",
       " 'accrues',\n",
       " 'accssible',\n",
       " 'accumulate',\n",
       " 'accumulating',\n",
       " 'accuracy',\n",
       " 'accurate',\n",
       " 'accurately',\n",
       " 'accuse',\n",
       " 'accused',\n",
       " 'accustomed',\n",
       " 'acdity',\n",
       " 'ace',\n",
       " 'aceri',\n",
       " 'acetic',\n",
       " 'acetone',\n",
       " 'achaval',\n",
       " 'acheived',\n",
       " 'achieve',\n",
       " 'achieved',\n",
       " 'achievement',\n",
       " 'achieves',\n",
       " 'achieving',\n",
       " 'achilles',\n",
       " 'aching',\n",
       " 'achingly',\n",
       " 'achleiten',\n",
       " 'aciar',\n",
       " 'acicity',\n",
       " 'acid',\n",
       " 'acidhounds',\n",
       " 'acidic',\n",
       " 'acidically',\n",
       " 'acidicy',\n",
       " 'acididty',\n",
       " 'acidification',\n",
       " 'acidified',\n",
       " 'acidify',\n",
       " 'aciditity',\n",
       " 'acidity',\n",
       " 'acidiy',\n",
       " 'acidty',\n",
       " 'aciidty',\n",
       " 'aciprestes',\n",
       " 'acitity',\n",
       " 'ackhurst',\n",
       " 'acknowledge',\n",
       " 'acknowledged',\n",
       " 'acknowledgement',\n",
       " 'acknowledges',\n",
       " 'aco',\n",
       " 'acohol',\n",
       " 'aconcagua',\n",
       " 'acorn',\n",
       " 'acorny',\n",
       " 'acquaintance',\n",
       " 'acquavigna',\n",
       " 'acqui',\n",
       " 'acquire',\n",
       " 'acquired',\n",
       " 'acquires',\n",
       " 'acquiring',\n",
       " 'acquisition',\n",
       " 'acquit',\n",
       " 'acquits',\n",
       " 'acquitted',\n",
       " 'acre',\n",
       " 'acreage',\n",
       " 'acrid',\n",
       " 'acridness',\n",
       " 'acrobat',\n",
       " 'acrobatics',\n",
       " 'acronym',\n",
       " 'act',\n",
       " 'acted',\n",
       " 'acting',\n",
       " 'action',\n",
       " 'active',\n",
       " 'actively',\n",
       " 'activity',\n",
       " 'actor',\n",
       " 'actress',\n",
       " 'actual',\n",
       " 'actuality',\n",
       " 'actually',\n",
       " 'acute',\n",
       " 'acutely',\n",
       " 'ad',\n",
       " 'ada',\n",
       " 'adage',\n",
       " 'adam',\n",
       " 'adamant',\n",
       " 'adami',\n",
       " 'adaptability',\n",
       " 'adaptable',\n",
       " 'adaptation',\n",
       " 'adapted',\n",
       " 'adapting',\n",
       " 'adastra',\n",
       " 'add',\n",
       " 'addamo',\n",
       " 'added',\n",
       " 'addict',\n",
       " 'addiction',\n",
       " 'addictive',\n",
       " 'addictively',\n",
       " 'adding',\n",
       " 'addition',\n",
       " 'additional',\n",
       " 'additionally',\n",
       " 'additive',\n",
       " 'address',\n",
       " 'ade',\n",
       " 'adega',\n",
       " 'adelaida',\n",
       " 'adelaide',\n",
       " 'adele',\n",
       " 'adelsheim',\n",
       " 'adelsheims',\n",
       " 'adept',\n",
       " 'adequate',\n",
       " 'adequately',\n",
       " 'adhere',\n",
       " 'adherence',\n",
       " 'adherent',\n",
       " 'adheres',\n",
       " 'adhering',\n",
       " 'adhesive',\n",
       " 'adi',\n",
       " 'adige',\n",
       " 'adjacent',\n",
       " 'adjective',\n",
       " 'adjoining',\n",
       " 'adjoins',\n",
       " 'adjunct',\n",
       " 'adjusted',\n",
       " 'adjustment',\n",
       " 'adjusts',\n",
       " 'administered',\n",
       " 'admirable',\n",
       " 'admirably',\n",
       " 'admiral',\n",
       " 'admiration',\n",
       " 'admire',\n",
       " 'admired',\n",
       " 'admirer',\n",
       " 'admission',\n",
       " 'admit',\n",
       " 'admits',\n",
       " 'admittance',\n",
       " 'admitted',\n",
       " 'admittedly',\n",
       " 'admitting',\n",
       " 'admixture',\n",
       " 'ado',\n",
       " 'adobe',\n",
       " 'adolescence',\n",
       " 'adolescent',\n",
       " 'adolph',\n",
       " 'adopted',\n",
       " 'adopting',\n",
       " 'adopts',\n",
       " 'adorably',\n",
       " 'adore',\n",
       " 'adored',\n",
       " 'adoring',\n",
       " 'adorn',\n",
       " 'adorned',\n",
       " 'adorning',\n",
       " 'adornment',\n",
       " 'adorns',\n",
       " 'adour',\n",
       " 'adquate',\n",
       " 'adriana',\n",
       " 'adrianna',\n",
       " 'adriano',\n",
       " 'adriatic',\n",
       " 'adrienne',\n",
       " 'adroitly',\n",
       " 'adult',\n",
       " 'advance',\n",
       " 'advanced',\n",
       " 'advancement',\n",
       " 'advantage',\n",
       " 'adventure',\n",
       " 'adventurer',\n",
       " 'adventurous',\n",
       " 'adversely',\n",
       " 'advertised',\n",
       " 'advertisement',\n",
       " 'advertises',\n",
       " 'advertising',\n",
       " 'advice',\n",
       " 'advisable',\n",
       " 'advised',\n",
       " 'advocacy',\n",
       " 'advocate',\n",
       " 'aegean',\n",
       " 'aegerter',\n",
       " 'aeolia',\n",
       " 'aerate',\n",
       " 'aerated',\n",
       " 'aerates',\n",
       " 'aerating',\n",
       " 'aeration',\n",
       " 'aerator',\n",
       " 'aerial',\n",
       " 'aeroplane',\n",
       " 'aerosmith',\n",
       " 'aerospace',\n",
       " 'aesthetic',\n",
       " 'aesthetically',\n",
       " 'afar',\n",
       " 'afertaste',\n",
       " 'affable',\n",
       " 'affair',\n",
       " 'affect',\n",
       " 'affectation',\n",
       " 'affected',\n",
       " 'affecting',\n",
       " 'affection',\n",
       " 'afficionadoes',\n",
       " 'afficionados',\n",
       " 'affile',\n",
       " 'affiliated',\n",
       " 'affinity',\n",
       " 'affirm',\n",
       " 'affirms',\n",
       " 'affix',\n",
       " 'affixed',\n",
       " 'afflicted',\n",
       " 'afforable',\n",
       " 'afford',\n",
       " 'affordability',\n",
       " 'affordable',\n",
       " 'affordably',\n",
       " 'afforded',\n",
       " 'affording',\n",
       " 'affords',\n",
       " 'affront',\n",
       " 'aficianados',\n",
       " 'aficionado',\n",
       " 'afield',\n",
       " 'afloat',\n",
       " 'aflutter',\n",
       " 'afoot',\n",
       " 'aforementioned',\n",
       " 'afoul',\n",
       " 'afraid',\n",
       " 'afresh',\n",
       " 'africa',\n",
       " 'african',\n",
       " 'afrikaans',\n",
       " 'afteratste',\n",
       " 'afterburn',\n",
       " 'afterburner',\n",
       " 'afterflavors',\n",
       " 'afterglow',\n",
       " 'aftermath',\n",
       " 'afternoon',\n",
       " 'afternote',\n",
       " 'afternotes',\n",
       " 'afterntaste',\n",
       " 'aftershock',\n",
       " 'aftertaste',\n",
       " 'afterthought',\n",
       " 'aftertones',\n",
       " 'afterward',\n",
       " 'agassac',\n",
       " 'agate',\n",
       " 'agave',\n",
       " 'agd',\n",
       " 'age',\n",
       " 'ageabiity',\n",
       " 'ageability',\n",
       " 'ageabilty',\n",
       " 'ageable',\n",
       " 'agebrush',\n",
       " 'aged',\n",
       " 'ageing',\n",
       " 'agen',\n",
       " 'agenda',\n",
       " 'agent',\n",
       " 'ager',\n",
       " 'ageworthiness',\n",
       " 'ageworthy',\n",
       " 'aggression',\n",
       " 'aggressive',\n",
       " 'aggressively',\n",
       " 'aggressiveness',\n",
       " 'agile',\n",
       " 'agilely',\n",
       " 'agility',\n",
       " 'aging',\n",
       " 'agiorgitiko',\n",
       " 'agiorgitkio',\n",
       " 'agiorgitko',\n",
       " 'agliancio',\n",
       " 'aglianico',\n",
       " 'agng',\n",
       " 'ago',\n",
       " 'agopian',\n",
       " 'agostina',\n",
       " 'agostino',\n",
       " 'agoston',\n",
       " 'agrapart',\n",
       " 'agree',\n",
       " 'agreeability',\n",
       " 'agreeable',\n",
       " 'agreeably',\n",
       " 'agrees',\n",
       " 'agrelo',\n",
       " 'agressive',\n",
       " 'agressively',\n",
       " 'agricola',\n",
       " 'agricoltori',\n",
       " 'agricultural',\n",
       " 'agriculture',\n",
       " 'agrigento',\n",
       " 'agrinatura',\n",
       " 'agro',\n",
       " 'agrocert',\n",
       " 'agua',\n",
       " 'agueira',\n",
       " 'aguia',\n",
       " 'aguieira',\n",
       " 'agustin',\n",
       " 'ah',\n",
       " 'ahead',\n",
       " 'ahi',\n",
       " 'ahn',\n",
       " 'ahoy',\n",
       " 'ai',\n",
       " 'aia',\n",
       " 'aid',\n",
       " 'aided',\n",
       " 'aidil',\n",
       " 'aiding',\n",
       " 'aiken',\n",
       " 'aim',\n",
       " 'aimed',\n",
       " 'aiming',\n",
       " 'aimless',\n",
       " 'aimlessly',\n",
       " 'ain',\n",
       " 'aiolo',\n",
       " 'air',\n",
       " 'airborne',\n",
       " 'aire',\n",
       " 'aired',\n",
       " 'airen',\n",
       " 'airfield',\n",
       " 'airiness',\n",
       " 'airing',\n",
       " 'airlie',\n",
       " 'airplane',\n",
       " 'airtime',\n",
       " 'airy',\n",
       " 'aise',\n",
       " 'aisle',\n",
       " 'aix',\n",
       " 'aka',\n",
       " 'akin',\n",
       " 'akiyoshi',\n",
       " 'al',\n",
       " 'ala',\n",
       " 'alabaster',\n",
       " 'alabastro',\n",
       " 'alain',\n",
       " 'alameda',\n",
       " 'alamitos',\n",
       " 'alamo',\n",
       " 'alan',\n",
       " 'alana',\n",
       " 'alance',\n",
       " 'alarid',\n",
       " 'alarm',\n",
       " 'alarmed',\n",
       " 'alarming',\n",
       " 'alarmingly',\n",
       " 'alaska',\n",
       " 'alastro',\n",
       " 'alatus',\n",
       " 'alayt',\n",
       " 'alazan',\n",
       " 'alba',\n",
       " 'albacete',\n",
       " 'alban',\n",
       " 'albana',\n",
       " 'albanello',\n",
       " 'albar',\n",
       " 'albarella',\n",
       " 'albari',\n",
       " 'albarino',\n",
       " 'albarola',\n",
       " 'albarossa',\n",
       " 'albe',\n",
       " 'albeggio',\n",
       " 'albeit',\n",
       " 'albera',\n",
       " 'alberdi',\n",
       " 'alberello',\n",
       " 'albert',\n",
       " 'alberta',\n",
       " 'albertina',\n",
       " 'alberto',\n",
       " 'albillo',\n",
       " 'albin',\n",
       " 'albinea',\n",
       " 'albino',\n",
       " 'albis',\n",
       " 'albola',\n",
       " 'albrecht',\n",
       " 'alcamo',\n",
       " 'alcance',\n",
       " 'alcantara',\n",
       " 'alchemist',\n",
       " 'alchemy',\n",
       " 'alcholic',\n",
       " 'alcineo',\n",
       " 'alcohol',\n",
       " 'alcoholic',\n",
       " 'alconte',\n",
       " 'aldegheri',\n",
       " 'aldehydic',\n",
       " 'alden',\n",
       " 'alder',\n",
       " 'alderbrook',\n",
       " 'alderpoint',\n",
       " 'aldo',\n",
       " 'ale',\n",
       " 'aleatico',\n",
       " 'alegria',\n",
       " 'alejandro',\n",
       " 'alella',\n",
       " 'alene',\n",
       " 'alenquer',\n",
       " 'alentejano',\n",
       " 'alentejo',\n",
       " 'aleramico',\n",
       " 'alert',\n",
       " 'alessandria',\n",
       " 'alessandro',\n",
       " 'alessano',\n",
       " 'alessio',\n",
       " 'alex',\n",
       " 'alexander',\n",
       " 'alexandra',\n",
       " 'alexandre',\n",
       " 'alexandria',\n",
       " 'alexandrine',\n",
       " 'alexia',\n",
       " 'alexis',\n",
       " 'alfalfa',\n",
       " 'alfio',\n",
       " 'alfonso',\n",
       " 'alfred',\n",
       " 'alfredo',\n",
       " 'alfresco',\n",
       " 'alfrocheiro',\n",
       " 'algae',\n",
       " 'algarve',\n",
       " 'ali',\n",
       " 'alian',\n",
       " 'alicante',\n",
       " 'alice',\n",
       " 'alicia',\n",
       " 'alidis',\n",
       " 'alienor',\n",
       " 'alighieri',\n",
       " 'alight',\n",
       " 'alighting',\n",
       " 'aligi',\n",
       " 'align',\n",
       " 'aligned',\n",
       " 'alignment',\n",
       " 'aligns',\n",
       " 'aligot',\n",
       " 'aligote',\n",
       " 'alij',\n",
       " 'alike',\n",
       " 'aline',\n",
       " 'alion',\n",
       " 'aliquorous',\n",
       " 'aliso',\n",
       " 'alison',\n",
       " 'alisos',\n",
       " 'alit',\n",
       " 'alitgot',\n",
       " 'alive',\n",
       " 'alka',\n",
       " 'alkaline',\n",
       " 'alkalinity',\n",
       " 'alkarasi',\n",
       " 'alkoomi',\n",
       " 'alla',\n",
       " 'allan',\n",
       " 'alle',\n",
       " 'alleanza',\n",
       " 'allegrini',\n",
       " 'allen',\n",
       " 'allende',\n",
       " 'allergic',\n",
       " 'alleviated',\n",
       " 'alleviating',\n",
       " 'alley',\n",
       " 'alliance',\n",
       " 'allied',\n",
       " 'allier',\n",
       " 'allium',\n",
       " 'alloro',\n",
       " 'allotment',\n",
       " 'allow',\n",
       " 'allowable',\n",
       " 'allowed',\n",
       " 'allowing',\n",
       " 'allows',\n",
       " 'alloyed',\n",
       " 'allrounder',\n",
       " 'allspice',\n",
       " 'allude',\n",
       " 'alludes',\n",
       " 'allure',\n",
       " 'alluring',\n",
       " 'alluringly',\n",
       " 'alluvial',\n",
       " 'alluvium',\n",
       " 'ally',\n",
       " 'allying',\n",
       " 'alma',\n",
       " 'almacen',\n",
       " 'almaden',\n",
       " 'almaterra',\n",
       " 'almaviva',\n",
       " 'almeida',\n",
       " 'almeirim',\n",
       " 'almerita',\n",
       " 'almirez',\n",
       " 'almond',\n",
       " 'almondine',\n",
       " 'almondy',\n",
       " 'almosty',\n",
       " 'aloe',\n",
       " 'aloft',\n",
       " 'alois',\n",
       " 'alolen',\n",
       " 'alongside',\n",
       " 'alonside',\n",
       " 'aloof',\n",
       " 'alorna',\n",
       " 'aloud',\n",
       " 'alouette',\n",
       " 'aloxe',\n",
       " 'alp',\n",
       " 'alperegis',\n",
       " 'alpes',\n",
       " 'alpha',\n",
       " 'alphonse',\n",
       " 'alpilles',\n",
       " 'alpine',\n",
       " 'alright',\n",
       " 'alsace',\n",
       " 'alsatian',\n",
       " 'alta',\n",
       " 'altadonna',\n",
       " 'altamira',\n",
       " 'altamont',\n",
       " 'altamura',\n",
       " 'altano',\n",
       " 'altar',\n",
       " 'altare',\n",
       " 'alte',\n",
       " 'alteo',\n",
       " 'alter',\n",
       " 'alteration',\n",
       " 'alternate',\n",
       " 'alternately',\n",
       " 'alternating',\n",
       " 'alternative',\n",
       " 'alternatively',\n",
       " 'altero',\n",
       " 'altesino',\n",
       " 'altesse',\n",
       " 'altimus',\n",
       " 'altiora',\n",
       " 'altitude',\n",
       " 'alto',\n",
       " 'altocedro',\n",
       " 'altogether',\n",
       " 'altoids',\n",
       " 'altrovino',\n",
       " 'altuve',\n",
       " 'alum',\n",
       " 'alvarelh',\n",
       " 'alvarinho',\n",
       " 'alvarinhos',\n",
       " 'alvaro',\n",
       " 'alvear',\n",
       " 'alves',\n",
       " 'alzheimer',\n",
       " 'amabile',\n",
       " 'amadieu',\n",
       " 'amador',\n",
       " 'amaiable',\n",
       " 'amalfi',\n",
       " 'amalgam',\n",
       " 'amalgamated',\n",
       " 'amalgamates',\n",
       " 'amalgamation',\n",
       " 'amalie',\n",
       " 'amancaya',\n",
       " 'amancio',\n",
       " 'amant',\n",
       " 'amantis',\n",
       " 'amaral',\n",
       " 'amarante',\n",
       " 'amare',\n",
       " 'amarela',\n",
       " 'amarena',\n",
       " 'amaretto',\n",
       " 'amaro',\n",
       " 'amarone',\n",
       " 'amarones',\n",
       " 'amass',\n",
       " 'amasses',\n",
       " 'amassing',\n",
       " 'amatriciana',\n",
       " 'amavi',\n",
       " 'amaze',\n",
       " 'amazed',\n",
       " 'amazes',\n",
       " 'amazing',\n",
       " 'amazingly',\n",
       " 'ambassador',\n",
       " 'ambassadorial',\n",
       " 'amber',\n",
       " 'ambiance',\n",
       " 'ambient',\n",
       " 'ambiguity',\n",
       " 'ambiguous',\n",
       " 'ambition',\n",
       " 'ambitious',\n",
       " 'ambitiously',\n",
       " 'amble',\n",
       " 'ambling',\n",
       " 'ambonnay',\n",
       " 'ambr',\n",
       " 'ambrogio',\n",
       " 'ambrosan',\n",
       " 'ambrosia',\n",
       " 'ambrosial',\n",
       " 'ambruco',\n",
       " 'ambulance',\n",
       " 'amburgo',\n",
       " 'ambush',\n",
       " 'amd',\n",
       " 'ame',\n",
       " 'ameliorate',\n",
       " 'ameliorated',\n",
       " 'amenability',\n",
       " 'amended',\n",
       " 'america',\n",
       " 'american',\n",
       " 'americanized',\n",
       " 'americna',\n",
       " 'amerigo',\n",
       " 'amerikus',\n",
       " 'amfora',\n",
       " 'amiable',\n",
       " 'amicably',\n",
       " 'amici',\n",
       " 'amicus',\n",
       " 'amid',\n",
       " 'amidst',\n",
       " 'amigas',\n",
       " 'amindst',\n",
       " 'amirault',\n",
       " 'amisfield',\n",
       " 'amiss',\n",
       " 'amity',\n",
       " 'amking',\n",
       " 'ammo',\n",
       " 'ammonia',\n",
       " 'ammonite',\n",
       " 'ammons',\n",
       " 'amon',\n",
       " 'amongae',\n",
       " 'amontillado',\n",
       " 'amore',\n",
       " 'amores',\n",
       " 'amorim',\n",
       " 'amorphous',\n",
       " 'amouller',\n",
       " 'amour',\n",
       " 'amoureuses',\n",
       " 'amp',\n",
       " 'amped',\n",
       " 'ampelos',\n",
       " 'amphibolite',\n",
       " 'amphitheater',\n",
       " 'amphora',\n",
       " 'ample',\n",
       " 'ampleness',\n",
       " 'amplifes',\n",
       " 'amplified',\n",
       " 'amplifies',\n",
       " 'amplify',\n",
       " 'amplifying',\n",
       " 'amplitude',\n",
       " 'amply',\n",
       " 'ampuis',\n",
       " 'amuse',\n",
       " 'amusing',\n",
       " 'amusingly',\n",
       " 'amy',\n",
       " 'amylic',\n",
       " 'amyndeon',\n",
       " 'ana',\n",
       " 'anagram',\n",
       " 'analivia',\n",
       " 'analog',\n",
       " 'analogy',\n",
       " 'analysis',\n",
       " 'analyze',\n",
       " 'analyzing',\n",
       " 'anam',\n",
       " 'ancellota',\n",
       " 'ancellotta',\n",
       " 'ancenis',\n",
       " 'ancestor',\n",
       " 'ancestral',\n",
       " 'ancestrale',\n",
       " 'ancestry',\n",
       " 'ancho',\n",
       " 'anchor',\n",
       " 'anchored',\n",
       " 'anchoring',\n",
       " 'anchovy',\n",
       " 'ancien',\n",
       " 'ancienne',\n",
       " 'ancient',\n",
       " 'ancilla',\n",
       " 'ancillary',\n",
       " 'ancona',\n",
       " 'andalucian',\n",
       " 'andalusia',\n",
       " 'andapricot',\n",
       " 'andbutter',\n",
       " 'andcrushed',\n",
       " 'andd',\n",
       " 'andelain',\n",
       " 'andeluna',\n",
       " 'andersen',\n",
       " 'anderson',\n",
       " 'andes',\n",
       " 'andis',\n",
       " 'andlau',\n",
       " 'andpeppery',\n",
       " 'andr',\n",
       " 'andrea',\n",
       " 'andreas',\n",
       " 'andres',\n",
       " 'andretta',\n",
       " 'andretti',\n",
       " 'andrew',\n",
       " 'andries',\n",
       " 'andripe',\n",
       " 'andrus',\n",
       " 'ands',\n",
       " 'andtangerine',\n",
       " 'andvanilla',\n",
       " 'andy',\n",
       " 'ane',\n",
       " 'anej',\n",
       " 'anf',\n",
       " 'anfora',\n",
       " 'ang',\n",
       " 'angel',\n",
       " 'angela',\n",
       " 'angeles',\n",
       " 'angeli',\n",
       " 'angelica',\n",
       " 'angelina',\n",
       " 'angeline',\n",
       " 'angelo',\n",
       " 'angelus',\n",
       " 'anger',\n",
       " 'anges',\n",
       " 'angimb',\n",
       " 'angiolina',\n",
       " 'anglaise',\n",
       " 'angle',\n",
       " 'angled',\n",
       " 'anglim',\n",
       " 'anglo',\n",
       " 'anglophile',\n",
       " 'angludet',\n",
       " 'angosto',\n",
       " 'angostura',\n",
       " 'angove',\n",
       " 'angry',\n",
       " 'angst',\n",
       " 'angular',\n",
       " 'angularity',\n",
       " 'anheuser',\n",
       " 'ani',\n",
       " 'anima',\n",
       " 'animal',\n",
       " 'animale',\n",
       " 'animalistic',\n",
       " 'animate',\n",
       " 'animated',\n",
       " 'animates',\n",
       " 'animating',\n",
       " 'animo',\n",
       " 'anise',\n",
       " 'aniseed',\n",
       " 'aniseeed',\n",
       " 'aniseseed',\n",
       " 'anisette',\n",
       " 'anisettte',\n",
       " 'anisya',\n",
       " 'anita',\n",
       " 'anjou',\n",
       " 'anjour',\n",
       " 'anjoy',\n",
       " 'anka',\n",
       " 'anke',\n",
       " 'ann',\n",
       " 'anna',\n",
       " 'annamaria',\n",
       " 'annapolis',\n",
       " 'annata',\n",
       " 'annate',\n",
       " 'annatto',\n",
       " 'anne',\n",
       " 'annette',\n",
       " 'annick',\n",
       " 'anniversary',\n",
       " 'annotate',\n",
       " 'annotated',\n",
       " 'announce',\n",
       " 'announced',\n",
       " 'announcement',\n",
       " 'announces',\n",
       " 'announcing',\n",
       " 'annoyance',\n",
       " 'annoying',\n",
       " 'annoyingly',\n",
       " 'annual',\n",
       " 'annually',\n",
       " 'annunziata',\n",
       " 'annurca',\n",
       " ...]"
      ]
     },
     "execution_count": 42,
     "metadata": {},
     "output_type": "execute_result"
    }
   ],
   "source": [
    "words"
   ]
  },
  {
   "cell_type": "code",
   "execution_count": 43,
   "metadata": {},
   "outputs": [
    {
     "data": {
      "text/plain": [
       "LatentDirichletAllocation(batch_size=128, doc_topic_prior=None,\n",
       "                          evaluate_every=-1, learning_decay=0.7,\n",
       "                          learning_method='online', learning_offset=10.0,\n",
       "                          max_doc_update_iter=100, max_iter=5,\n",
       "                          mean_change_tol=0.001, n_components=7, n_jobs=-1,\n",
       "                          perp_tol=0.1, random_state=0, topic_word_prior=None,\n",
       "                          total_samples=1000000.0, verbose=0)"
      ]
     },
     "execution_count": 43,
     "metadata": {},
     "output_type": "execute_result"
    }
   ],
   "source": [
    "lda = LatentDirichletAllocation(n_components=7, max_iter=5, learning_method='online',random_state=0, n_jobs=-1)\n",
    "lda.fit(count_vectorized)"
   ]
  },
  {
   "cell_type": "code",
   "execution_count": 44,
   "metadata": {},
   "outputs": [],
   "source": [
    "components = lda.components_"
   ]
  },
  {
   "cell_type": "code",
   "execution_count": 45,
   "metadata": {},
   "outputs": [],
   "source": [
    "tf_feature_names = np.array(words)"
   ]
  },
  {
   "cell_type": "code",
   "execution_count": 46,
   "metadata": {},
   "outputs": [],
   "source": [
    "def find_top_words(matrix):\n",
    "    words = []\n",
    "    for idx, __ in enumerate(matrix):\n",
    "        top_words = np.argsort(matrix[idx])[-10:][::-1]\n",
    "        top_words = tf_feature_names[top_words]\n",
    "        words.append(top_words)\n",
    "    return words"
   ]
  },
  {
   "cell_type": "code",
   "execution_count": 47,
   "metadata": {},
   "outputs": [
    {
     "data": {
      "text/plain": [
       "[array(['flavor', 'aroma', 'finish', 'fruit', 'palate', 'berry', 'plum',\n",
       "        'feel', 'herbal', 'note'], dtype='<U20'),\n",
       " array(['apple', 'palate', 'flavor', 'acidity', 'wine', 'citrus', 'lemon',\n",
       "        'white', 'finish', 'fresh'], dtype='<U20'),\n",
       " array(['palate', 'aroma', 'black', 'cherry', 'tannin', 'spice', 'red',\n",
       "        'offer', 'note', 'herb'], dtype='<U20'),\n",
       " array(['wine', 'fruit', 'drink', 'tannin', 'acidity', 'ripe', 'rich',\n",
       "        'flavor', 'black', 'year'], dtype='<U20'),\n",
       " array(['flavor', 'cherry', 'wine', 'bodied', 'make', 'oak', 'sweet',\n",
       "        'finish', 'raspberry', 'blackberry'], dtype='<U20'),\n",
       " array(['vineyard', 'bottling', 'new', 'oak', 'grape', 'vine', 'old',\n",
       "        'estate', 'french', 'valley'], dtype='<U20'),\n",
       " array(['taste', 'cranberry', 'wine', 'big', 'blend', 'syrah', 'best',\n",
       "        'fruit', 'chocolate', 'end'], dtype='<U20')]"
      ]
     },
     "execution_count": 47,
     "metadata": {},
     "output_type": "execute_result"
    }
   ],
   "source": [
    "top_words_in_topic = find_top_words(components)\n",
    "top_words_in_topic"
   ]
  },
  {
   "cell_type": "code",
   "execution_count": null,
   "metadata": {},
   "outputs": [],
   "source": [
    "theta = lda.transform(count_vectorized)"
   ]
  },
  {
   "cell_type": "code",
   "execution_count": null,
   "metadata": {},
   "outputs": [],
   "source": [
    "def find_similar_wines(wine_title):\n",
    "    awine_idx = df[df['title'] == wine_title].index[0]\n",
    "    dists = cosine_distances(theta, theta)\n",
    "    top_wines = np.argsort(dists[wine_idx,:])[-10:][::1]\n",
    "    top_wines = df.title[top_wines]\n",
    "    return top_wines[1:]"
   ]
  },
  {
   "cell_type": "code",
   "execution_count": null,
   "metadata": {},
   "outputs": [],
   "source": [
    "wine_title = 'Quinta dos Avidagos 2011 Avidagos Red (Douro)'"
   ]
  },
  {
   "cell_type": "code",
   "execution_count": 30,
   "metadata": {},
   "outputs": [],
   "source": [
    "#find_similar_wines(wine_title)"
   ]
  },
  {
   "cell_type": "markdown",
   "metadata": {},
   "source": [
    "## Testing NMF"
   ]
  },
  {
   "cell_type": "code",
   "execution_count": 74,
   "metadata": {
    "scrolled": false
   },
   "outputs": [
    {
     "name": "stderr",
     "output_type": "stream",
     "text": [
      "//anaconda3/lib/python3.7/site-packages/sklearn/feature_extraction/text.py:300: UserWarning: Your stop_words may be inconsistent with your preprocessing. Tokenizing the stop words generated tokens ['aroma'] not in stop_words.\n",
      "  'stop_words.' % sorted(inconsistent))\n"
     ]
    }
   ],
   "source": [
    "tf_vect = TfidfVectorizer(stop_words=stop,tokenizer=tokenize)\n",
    "tf = tf_vect.fit_transform(desc)"
   ]
  },
  {
   "cell_type": "code",
   "execution_count": 84,
   "metadata": {},
   "outputs": [],
   "source": [
    "nmf = NMF(n_components = 10)\n",
    "nmf.fit(tf)\n",
    "W = nmf.transform(tf)\n",
    "H = nmf.components_\n",
    "topic_words = find_top_words(H)"
   ]
  },
  {
   "cell_type": "code",
   "execution_count": 81,
   "metadata": {},
   "outputs": [
    {
     "data": {
      "text/plain": [
       "[array(['black', 'cherry', 'tanins', 'aroma', 'alongside', 'berry',\n",
       "        'oeuvre', 'recreates', 'spends', 'pepella'], dtype='<U20'),\n",
       " array(['apple', 'whispering', 'citrus', 'freres', 'lemelson', 'crisp',\n",
       "        'acidity', 'pazzo', 'peachy', 'lifting'], dtype='<U20'),\n",
       " array(['fruchtig', 'ripan', 'acidity', 'ric', 'tanins', 'wonderful',\n",
       "        'character', 'texbook', 'reactive', 'aging'], dtype='<U20'),\n",
       " array(['cabernet', 'nymph', 'blend', 'blackberry', 'sauteed', 'merited',\n",
       "        'cherry', 'chocolate', 'plowbuster', 'sweaty'], dtype='<U20')]"
      ]
     },
     "execution_count": 81,
     "metadata": {},
     "output_type": "execute_result"
    }
   ],
   "source": [
    "topic_words #4"
   ]
  },
  {
   "cell_type": "code",
   "execution_count": 79,
   "metadata": {
    "scrolled": true
   },
   "outputs": [
    {
     "data": {
      "text/plain": [
       "[array(['cherry', 'black', 'aroma', 'tanins', 'berry', 'alongside',\n",
       "        'oeuvre', 'spends', 'plowbuster', 'pepella'], dtype='<U20'),\n",
       " array(['apple', 'whispering', 'lemelson', 'citrus', 'pazzo', 'peachy',\n",
       "        'aroma', 'greco', 'lima', 'freres'], dtype='<U20'),\n",
       " array(['fruchtig', 'ripan', 'ric', 'tanins', 'wonderful', 'aging',\n",
       "        'strove', 'black', 'yarrabank', 'age'], dtype='<U20'),\n",
       " array(['cabernet', 'blend', 'sauteed', 'merited', 'nymph', 'blackberry',\n",
       "        'framework', 'synchronize', 'chocolate', 'cherry'], dtype='<U20'),\n",
       " array(['fruitiness', 'acidity', 'recreates', 'lifting', 'crisp',\n",
       "        'socking', 'reactive', 'freres', 'bright', 'attractive'],\n",
       "       dtype='<U20')]"
      ]
     },
     "execution_count": 79,
     "metadata": {},
     "output_type": "execute_result"
    }
   ],
   "source": [
    "topic_words #5"
   ]
  },
  {
   "cell_type": "code",
   "execution_count": 77,
   "metadata": {
    "scrolled": false
   },
   "outputs": [
    {
     "data": {
      "text/plain": [
       "[array(['black', 'cherry', 'tanins', 'aroma', 'alongside', 'oeuvre',\n",
       "        'pepella', 'berry', 'spends', 'recreates'], dtype='<U20'),\n",
       " array(['apple', 'whispering', 'lemelson', 'citrus', 'pazzo', 'peachy',\n",
       "        'greco', 'lima', 'freres', 'aroma'], dtype='<U20'),\n",
       " array(['fruchtig', 'ripan', 'ric', 'tanins', 'wonderful', 'aging',\n",
       "        'strove', 'black', 'age', 'firewood'], dtype='<U20'),\n",
       " array(['nymph', 'aroma', 'sweaty', 'plowbuster', 'cherry', 'feeding',\n",
       "        'valued', 'blackberry', 'berry', 'herbacesously'], dtype='<U20'),\n",
       " array(['fruitiness', 'acidity', 'recreates', 'crisp', 'lifting',\n",
       "        'socking', 'reactive', 'freres', 'attractive', 'bright'],\n",
       "       dtype='<U20'),\n",
       " array(['cabernet', 'sauteed', 'blend', 'merited', 'framework', 'verdesca',\n",
       "        'petal', 'synchronize', 'malagousia', 'currant'], dtype='<U20')]"
      ]
     },
     "execution_count": 77,
     "metadata": {},
     "output_type": "execute_result"
    }
   ],
   "source": [
    "topic_words #6"
   ]
  },
  {
   "cell_type": "code",
   "execution_count": 83,
   "metadata": {
    "scrolled": true
   },
   "outputs": [
    {
     "data": {
      "text/plain": [
       "[array(['black', 'cherry', 'tanins', 'alongside', 'aroma', 'oeuvre',\n",
       "        'pepella', 'spends', 'dried', 'lick'], dtype='<U20'),\n",
       " array(['apple', 'whispering', 'lemelson', 'citrus', 'pazzo', 'peachy',\n",
       "        'aroma', 'lima', 'greco', 'yearold'], dtype='<U20'),\n",
       " array(['fruchtig', 'ripan', 'ric', 'tanins', 'wonderful', 'aging',\n",
       "        'strove', 'black', 'firewood', 'age'], dtype='<U20'),\n",
       " array(['nymph', 'sweaty', 'cherry', 'valued', 'bodied', 'pinkish',\n",
       "        'liguria', 'rasina', 'blackberry', 'drupeggio'], dtype='<U20'),\n",
       " array(['fruitiness', 'acidity', 'crisp', 'recreates', 'lifting',\n",
       "        'socking', 'reactive', 'attractive', 'bright', 'freres'],\n",
       "       dtype='<U20'),\n",
       " array(['cabernet', 'sauteed', 'blend', 'merited', 'framework', 'verdesca',\n",
       "        'petal', 'synchronize', 'malagousia', 'currant'], dtype='<U20'),\n",
       " array(['berry', 'plowbuster', 'aroma', 'herbacesously', 'feeding',\n",
       "        'fruchtig', 'recreates', 'earthshaking', 'greco', 'spicebox'],\n",
       "       dtype='<U20')]"
      ]
     },
     "execution_count": 83,
     "metadata": {},
     "output_type": "execute_result"
    }
   ],
   "source": [
    "topic_words #7"
   ]
  },
  {
   "cell_type": "code",
   "execution_count": 85,
   "metadata": {
    "scrolled": false
   },
   "outputs": [
    {
     "data": {
      "text/plain": [
       "[array(['alongside', 'tanins', 'oeuvre', 'aroma', 'cherry', 'spends',\n",
       "        'berry', 'dried', 'recreates', 'clove'], dtype='<U20'),\n",
       " array(['apple', 'whispering', 'lemelson', 'citrus', 'pazzo', 'peachy',\n",
       "        'lima', 'greco', 'freres', 'yearold'], dtype='<U20'),\n",
       " array(['fruchtig', 'ripan', 'ric', 'wonderful', 'tanins', 'aging',\n",
       "        'strove', 'age', 'firewood', 'yarrabank'], dtype='<U20'),\n",
       " array(['nymph', 'sweaty', 'valued', 'tl', 'blackberry', 'neve', 'socking',\n",
       "        'freindly', 'chardonnay', 'pinard'], dtype='<U20'),\n",
       " array(['fruitiness', 'acidity', 'crisp', 'socking', 'reactive', 'lifting',\n",
       "        'recreates', 'attractive', 'bright', 'freres'], dtype='<U20'),\n",
       " array(['cabernet', 'sauteed', 'blend', 'merited', 'framework', 'verdesca',\n",
       "        'petal', 'synchronize', 'malagousia', 'hepped'], dtype='<U20'),\n",
       " array(['berry', 'plowbuster', 'aroma', 'herbacesously', 'feeding',\n",
       "        'fruchtig', 'earthshaking', 'greco', 'recreates', 'spicebox'],\n",
       "       dtype='<U20'),\n",
       " array(['cherry', 'pinkish', 'rasina', 'drupeggio', 'nod', 'cola',\n",
       "        'recreates', 'tarlant', 'silk', 'strategy'], dtype='<U20'),\n",
       " array(['black', 'pepella', 'currant', 'blackberry', 'plowbuster', 'dark',\n",
       "        'tanins', 'cherry', 'chocolate', 'lick'], dtype='<U20'),\n",
       " array(['bodied', 'mediterra', 'texbook', 'lifting', 'smokey', 'liguria',\n",
       "        'body', 'aroma', 'ripan', 'wehlener'], dtype='<U20')]"
      ]
     },
     "execution_count": 85,
     "metadata": {},
     "output_type": "execute_result"
    }
   ],
   "source": [
    "topic_words #10"
   ]
  },
  {
   "cell_type": "markdown",
   "metadata": {},
   "source": [
    "## Using Gensim Pipeline"
   ]
  },
  {
   "cell_type": "code",
   "execution_count": 202,
   "metadata": {},
   "outputs": [],
   "source": [
    "def lemmatize_stemming(text):\n",
    "    return WordNetLemmatizer().lemmatize(text, pos='v')\n",
    "\n",
    "def preprocess(text):\n",
    "    result = []\n",
    "    for token in simple_preprocess(text):\n",
    "        stem = lemmatize_stemming(token)\n",
    "        if stem not in stop_words and len(stem) > 3:\n",
    "            result.append(stem)\n",
    "    return result"
   ]
  },
  {
   "cell_type": "code",
   "execution_count": 203,
   "metadata": {},
   "outputs": [],
   "source": [
    "raw_data = '../data/winemag-data-190314.csv'\n",
    "df = pd.read_csv(raw_data)\n",
    "df.drop(labels='Unnamed: 0',axis=1,inplace=True)\n",
    "desc = df.description\n",
    "desc = desc.str.lower()\n",
    "desc = desc.str.replace('[^a-zA-Z0-9 \\n\\.]', ' ')\n",
    "desc = desc.str.replace('\\d', ' ')\n",
    "desc = desc.str.replace('.', ' ')\n",
    "\n",
    "additional_stop = ['wine','flavor','aromas','finish', 'palate', 'note', 'nose', 'drink', 'fruit', 'like']\n",
    "stop_words = list(STOPWORDS)\n",
    "for val in additional_stop:\n",
    "    stop_words.append(val)\n",
    "stop_words = frozenset(stop_words)\n",
    "\n",
    "processed_docs = desc.map(preprocess)"
   ]
  },
  {
   "cell_type": "code",
   "execution_count": 204,
   "metadata": {},
   "outputs": [
    {
     "data": {
      "text/plain": [
       "pandas.core.series.Series"
      ]
     },
     "execution_count": 204,
     "metadata": {},
     "output_type": "execute_result"
    }
   ],
   "source": [
    "type(processed_docs)"
   ]
  },
  {
   "cell_type": "code",
   "execution_count": 206,
   "metadata": {},
   "outputs": [],
   "source": [
    "doc_lens = [len(doc) for doc in processed_docs]"
   ]
  },
  {
   "cell_type": "code",
   "execution_count": 216,
   "metadata": {},
   "outputs": [
    {
     "data": {
      "text/plain": [
       "15"
      ]
     },
     "execution_count": 216,
     "metadata": {},
     "output_type": "execute_result"
    }
   ],
   "source": [
    "len(processed_docs[0])"
   ]
  },
  {
   "cell_type": "code",
   "execution_count": 459,
   "metadata": {},
   "outputs": [
    {
     "data": {
      "image/png": "[encoded data removed]",
      "text/plain": [
       "<Figure size 432x288 with 1 Axes>"
      ]
     },
     "metadata": {
      "needs_background": "light"
     },
     "output_type": "display_data"
    }
   ],
   "source": [
    "fig, ax = plt.subplots()\n",
    "ax.hist(doc_lens, bins = 20,color=colors[0])\n",
    "ax.set_xlabel(\"Number of Words\",fontsize=16)\n",
    "ax.set_ylabel(\"Count of Reviews\",fontsize=16)\n",
    "ax.set_title(\"Review Word Counts\",fontsize=20,pad=10);"
   ]
  },
  {
   "cell_type": "code",
   "execution_count": 256,
   "metadata": {},
   "outputs": [],
   "source": [
    "wine_desc = pd.DataFrame(doc_lens,df.points,columns=['word_cnt'])"
   ]
  },
  {
   "cell_type": "code",
   "execution_count": 257,
   "metadata": {},
   "outputs": [
    {
     "data": {
      "text/plain": [
       "Int64Index([87, 87, 87, 87, 87, 87, 87, 87, 87, 87,\n",
       "            ...\n",
       "            92, 92, 92, 92, 92, 92, 92, 92, 92, 92],\n",
       "           dtype='int64', name='points', length=141617)"
      ]
     },
     "execution_count": 257,
     "metadata": {},
     "output_type": "execute_result"
    }
   ],
   "source": [
    "wine_desc.index"
   ]
  },
  {
   "cell_type": "code",
   "execution_count": 258,
   "metadata": {},
   "outputs": [],
   "source": [
    "wine_desc.reset_index(inplace=True)"
   ]
  },
  {
   "cell_type": "code",
   "execution_count": 259,
   "metadata": {
    "scrolled": true
   },
   "outputs": [
    {
     "data": {
      "text/html": [
       "<div>\n",
       "<style scoped>\n",
       "    .dataframe tbody tr th:only-of-type {\n",
       "        vertical-align: middle;\n",
       "    }\n",
       "\n",
       "    .dataframe tbody tr th {\n",
       "        vertical-align: top;\n",
       "    }\n",
       "\n",
       "    .dataframe thead th {\n",
       "        text-align: right;\n",
       "    }\n",
       "</style>\n",
       "<table border=\"1\" class=\"dataframe\">\n",
       "  <thead>\n",
       "    <tr style=\"text-align: right;\">\n",
       "      <th></th>\n",
       "      <th>points</th>\n",
       "      <th>word_cnt</th>\n",
       "    </tr>\n",
       "  </thead>\n",
       "  <tbody>\n",
       "    <tr>\n",
       "      <th>0</th>\n",
       "      <td>87</td>\n",
       "      <td>15</td>\n",
       "    </tr>\n",
       "    <tr>\n",
       "      <th>1</th>\n",
       "      <td>87</td>\n",
       "      <td>13</td>\n",
       "    </tr>\n",
       "    <tr>\n",
       "      <th>2</th>\n",
       "      <td>87</td>\n",
       "      <td>15</td>\n",
       "    </tr>\n",
       "    <tr>\n",
       "      <th>3</th>\n",
       "      <td>87</td>\n",
       "      <td>16</td>\n",
       "    </tr>\n",
       "    <tr>\n",
       "      <th>4</th>\n",
       "      <td>87</td>\n",
       "      <td>19</td>\n",
       "    </tr>\n",
       "  </tbody>\n",
       "</table>\n",
       "</div>"
      ],
      "text/plain": [
       "   points  word_cnt\n",
       "0      87        15\n",
       "1      87        13\n",
       "2      87        15\n",
       "3      87        16\n",
       "4      87        19"
      ]
     },
     "execution_count": 259,
     "metadata": {},
     "output_type": "execute_result"
    }
   ],
   "source": [
    "wine_desc.head()"
   ]
  },
  {
   "cell_type": "code",
   "execution_count": 260,
   "metadata": {},
   "outputs": [],
   "source": [
    "wine_points_desc = wine_desc.groupby('points').median()"
   ]
  },
  {
   "cell_type": "code",
   "execution_count": 261,
   "metadata": {},
   "outputs": [
    {
     "data": {
      "text/html": [
       "<div>\n",
       "<style scoped>\n",
       "    .dataframe tbody tr th:only-of-type {\n",
       "        vertical-align: middle;\n",
       "    }\n",
       "\n",
       "    .dataframe tbody tr th {\n",
       "        vertical-align: top;\n",
       "    }\n",
       "\n",
       "    .dataframe thead th {\n",
       "        text-align: right;\n",
       "    }\n",
       "</style>\n",
       "<table border=\"1\" class=\"dataframe\">\n",
       "  <thead>\n",
       "    <tr style=\"text-align: right;\">\n",
       "      <th></th>\n",
       "      <th>word_cnt</th>\n",
       "    </tr>\n",
       "    <tr>\n",
       "      <th>points</th>\n",
       "      <th></th>\n",
       "    </tr>\n",
       "  </thead>\n",
       "  <tbody>\n",
       "    <tr>\n",
       "      <th>80</th>\n",
       "      <td>11</td>\n",
       "    </tr>\n",
       "    <tr>\n",
       "      <th>81</th>\n",
       "      <td>12</td>\n",
       "    </tr>\n",
       "    <tr>\n",
       "      <th>82</th>\n",
       "      <td>12</td>\n",
       "    </tr>\n",
       "    <tr>\n",
       "      <th>83</th>\n",
       "      <td>14</td>\n",
       "    </tr>\n",
       "    <tr>\n",
       "      <th>84</th>\n",
       "      <td>14</td>\n",
       "    </tr>\n",
       "    <tr>\n",
       "      <th>85</th>\n",
       "      <td>15</td>\n",
       "    </tr>\n",
       "    <tr>\n",
       "      <th>86</th>\n",
       "      <td>16</td>\n",
       "    </tr>\n",
       "    <tr>\n",
       "      <th>87</th>\n",
       "      <td>17</td>\n",
       "    </tr>\n",
       "    <tr>\n",
       "      <th>88</th>\n",
       "      <td>18</td>\n",
       "    </tr>\n",
       "    <tr>\n",
       "      <th>89</th>\n",
       "      <td>19</td>\n",
       "    </tr>\n",
       "    <tr>\n",
       "      <th>90</th>\n",
       "      <td>20</td>\n",
       "    </tr>\n",
       "    <tr>\n",
       "      <th>91</th>\n",
       "      <td>21</td>\n",
       "    </tr>\n",
       "    <tr>\n",
       "      <th>92</th>\n",
       "      <td>22</td>\n",
       "    </tr>\n",
       "    <tr>\n",
       "      <th>93</th>\n",
       "      <td>23</td>\n",
       "    </tr>\n",
       "    <tr>\n",
       "      <th>94</th>\n",
       "      <td>24</td>\n",
       "    </tr>\n",
       "    <tr>\n",
       "      <th>95</th>\n",
       "      <td>25</td>\n",
       "    </tr>\n",
       "    <tr>\n",
       "      <th>96</th>\n",
       "      <td>26</td>\n",
       "    </tr>\n",
       "    <tr>\n",
       "      <th>97</th>\n",
       "      <td>27</td>\n",
       "    </tr>\n",
       "    <tr>\n",
       "      <th>98</th>\n",
       "      <td>29</td>\n",
       "    </tr>\n",
       "    <tr>\n",
       "      <th>99</th>\n",
       "      <td>28</td>\n",
       "    </tr>\n",
       "    <tr>\n",
       "      <th>100</th>\n",
       "      <td>29</td>\n",
       "    </tr>\n",
       "  </tbody>\n",
       "</table>\n",
       "</div>"
      ],
      "text/plain": [
       "        word_cnt\n",
       "points          \n",
       "80            11\n",
       "81            12\n",
       "82            12\n",
       "83            14\n",
       "84            14\n",
       "85            15\n",
       "86            16\n",
       "87            17\n",
       "88            18\n",
       "89            19\n",
       "90            20\n",
       "91            21\n",
       "92            22\n",
       "93            23\n",
       "94            24\n",
       "95            25\n",
       "96            26\n",
       "97            27\n",
       "98            29\n",
       "99            28\n",
       "100           29"
      ]
     },
     "execution_count": 261,
     "metadata": {},
     "output_type": "execute_result"
    }
   ],
   "source": [
    "wine_points_desc"
   ]
  },
  {
   "cell_type": "code",
   "execution_count": 461,
   "metadata": {},
   "outputs": [
    {
     "data": {
      "image/png": "[encoded data removed]",
      "text/plain": [
       "<Figure size 432x288 with 1 Axes>"
      ]
     },
     "metadata": {
      "needs_background": "light"
     },
     "output_type": "display_data"
    }
   ],
   "source": [
    "fig, ax = plt.subplots()\n",
    "xvals = wine_points_desc.index\n",
    "yvals = wine_points_desc.word_cnt\n",
    "plt.xticks(rotation='vertical',fontsize=14)\n",
    "ax.bar(xvals,yvals,color=colors[4])\n",
    "#ax.tick_params(axis=\"y\", labelsize=14)\n",
    "ax.set_xticks(xvals)\n",
    "#y_ticks = np.linspace(0,20000,5)\n",
    "#ax.set_yticks(y_ticks)\n",
    "ax.set_xlabel(\"Score\",fontsize=16)\n",
    "ax.set_ylabel(\"Count of Words\",fontsize=16)\n",
    "ax.set_title(\"Word Count by Rating\",fontsize=20,pad=10);"
   ]
  },
  {
   "cell_type": "markdown",
   "metadata": {},
   "source": [
    "## Wordcloud"
   ]
  },
  {
   "cell_type": "code",
   "execution_count": 271,
   "metadata": {},
   "outputs": [],
   "source": [
    "cloud_df = pd.read_csv('../src/cloud_df')"
   ]
  },
  {
   "cell_type": "code",
   "execution_count": 274,
   "metadata": {},
   "outputs": [
    {
     "data": {
      "text/html": [
       "<div>\n",
       "<style scoped>\n",
       "    .dataframe tbody tr th:only-of-type {\n",
       "        vertical-align: middle;\n",
       "    }\n",
       "\n",
       "    .dataframe tbody tr th {\n",
       "        vertical-align: top;\n",
       "    }\n",
       "\n",
       "    .dataframe thead th {\n",
       "        text-align: right;\n",
       "    }\n",
       "</style>\n",
       "<table border=\"1\" class=\"dataframe\">\n",
       "  <thead>\n",
       "    <tr style=\"text-align: right;\">\n",
       "      <th></th>\n",
       "      <th>acidity</th>\n",
       "      <th>alongside</th>\n",
       "      <th>apple</th>\n",
       "      <th>brimstone</th>\n",
       "      <th>brisk</th>\n",
       "      <th>broom</th>\n",
       "      <th>citrus</th>\n",
       "      <th>expressive</th>\n",
       "      <th>herb</th>\n",
       "      <th>include</th>\n",
       "      <th>...</th>\n",
       "      <th>stealthily</th>\n",
       "      <th>oppressively</th>\n",
       "      <th>attunga</th>\n",
       "      <th>souffle</th>\n",
       "      <th>baton</th>\n",
       "      <th>batuta</th>\n",
       "      <th>conductor</th>\n",
       "      <th>instrument</th>\n",
       "      <th>soufre</th>\n",
       "      <th>verse</th>\n",
       "    </tr>\n",
       "  </thead>\n",
       "  <tbody>\n",
       "    <tr>\n",
       "      <th>0</th>\n",
       "      <td>0.026248</td>\n",
       "      <td>0.000986</td>\n",
       "      <td>0.014623</td>\n",
       "      <td>0.000004</td>\n",
       "      <td>0.000869</td>\n",
       "      <td>0.000055</td>\n",
       "      <td>0.009277</td>\n",
       "      <td>0.000180</td>\n",
       "      <td>0.003367</td>\n",
       "      <td>0.000678</td>\n",
       "      <td>...</td>\n",
       "      <td>5.011530e-07</td>\n",
       "      <td>5.011527e-07</td>\n",
       "      <td>5.011536e-07</td>\n",
       "      <td>5.011530e-07</td>\n",
       "      <td>5.011534e-07</td>\n",
       "      <td>5.011534e-07</td>\n",
       "      <td>5.011534e-07</td>\n",
       "      <td>5.011534e-07</td>\n",
       "      <td>5.011531e-07</td>\n",
       "      <td>5.025056e-07</td>\n",
       "    </tr>\n",
       "    <tr>\n",
       "      <th>1</th>\n",
       "      <td>0.008361</td>\n",
       "      <td>0.001274</td>\n",
       "      <td>0.003689</td>\n",
       "      <td>0.000014</td>\n",
       "      <td>0.000911</td>\n",
       "      <td>0.000056</td>\n",
       "      <td>0.003183</td>\n",
       "      <td>0.000227</td>\n",
       "      <td>0.002539</td>\n",
       "      <td>0.001026</td>\n",
       "      <td>...</td>\n",
       "      <td>4.048863e-07</td>\n",
       "      <td>4.112625e-07</td>\n",
       "      <td>4.262126e-07</td>\n",
       "      <td>4.048862e-07</td>\n",
       "      <td>4.048865e-07</td>\n",
       "      <td>4.048865e-07</td>\n",
       "      <td>4.048865e-07</td>\n",
       "      <td>4.048865e-07</td>\n",
       "      <td>4.115850e-07</td>\n",
       "      <td>4.048863e-07</td>\n",
       "    </tr>\n",
       "    <tr>\n",
       "      <th>2</th>\n",
       "      <td>0.013748</td>\n",
       "      <td>0.001784</td>\n",
       "      <td>0.011367</td>\n",
       "      <td>0.000035</td>\n",
       "      <td>0.001604</td>\n",
       "      <td>0.000286</td>\n",
       "      <td>0.010586</td>\n",
       "      <td>0.000456</td>\n",
       "      <td>0.001306</td>\n",
       "      <td>0.000517</td>\n",
       "      <td>...</td>\n",
       "      <td>3.964672e-07</td>\n",
       "      <td>3.696841e-07</td>\n",
       "      <td>3.696849e-07</td>\n",
       "      <td>4.148357e-07</td>\n",
       "      <td>3.696847e-07</td>\n",
       "      <td>3.696847e-07</td>\n",
       "      <td>3.696847e-07</td>\n",
       "      <td>3.696847e-07</td>\n",
       "      <td>3.990027e-07</td>\n",
       "      <td>4.160128e-07</td>\n",
       "    </tr>\n",
       "    <tr>\n",
       "      <th>3</th>\n",
       "      <td>0.009782</td>\n",
       "      <td>0.001952</td>\n",
       "      <td>0.002423</td>\n",
       "      <td>0.000009</td>\n",
       "      <td>0.001123</td>\n",
       "      <td>0.000078</td>\n",
       "      <td>0.002963</td>\n",
       "      <td>0.000227</td>\n",
       "      <td>0.001633</td>\n",
       "      <td>0.000859</td>\n",
       "      <td>...</td>\n",
       "      <td>3.427302e-07</td>\n",
       "      <td>3.520674e-07</td>\n",
       "      <td>3.425639e-07</td>\n",
       "      <td>3.425636e-07</td>\n",
       "      <td>3.437681e-07</td>\n",
       "      <td>3.437681e-07</td>\n",
       "      <td>3.437681e-07</td>\n",
       "      <td>3.437681e-07</td>\n",
       "      <td>3.425637e-07</td>\n",
       "      <td>3.425637e-07</td>\n",
       "    </tr>\n",
       "    <tr>\n",
       "      <th>4</th>\n",
       "      <td>0.014075</td>\n",
       "      <td>0.006501</td>\n",
       "      <td>0.002945</td>\n",
       "      <td>0.000056</td>\n",
       "      <td>0.000558</td>\n",
       "      <td>0.000030</td>\n",
       "      <td>0.002295</td>\n",
       "      <td>0.000284</td>\n",
       "      <td>0.005795</td>\n",
       "      <td>0.000468</td>\n",
       "      <td>...</td>\n",
       "      <td>2.939270e-07</td>\n",
       "      <td>2.946715e-07</td>\n",
       "      <td>2.925496e-07</td>\n",
       "      <td>2.925494e-07</td>\n",
       "      <td>2.925496e-07</td>\n",
       "      <td>2.925496e-07</td>\n",
       "      <td>2.925496e-07</td>\n",
       "      <td>2.925496e-07</td>\n",
       "      <td>2.940792e-07</td>\n",
       "      <td>2.925495e-07</td>\n",
       "    </tr>\n",
       "  </tbody>\n",
       "</table>\n",
       "<p>5 rows × 25133 columns</p>\n",
       "</div>"
      ],
      "text/plain": [
       "    acidity  alongside     apple  brimstone     brisk     broom    citrus  \\\n",
       "0  0.026248   0.000986  0.014623   0.000004  0.000869  0.000055  0.009277   \n",
       "1  0.008361   0.001274  0.003689   0.000014  0.000911  0.000056  0.003183   \n",
       "2  0.013748   0.001784  0.011367   0.000035  0.001604  0.000286  0.010586   \n",
       "3  0.009782   0.001952  0.002423   0.000009  0.001123  0.000078  0.002963   \n",
       "4  0.014075   0.006501  0.002945   0.000056  0.000558  0.000030  0.002295   \n",
       "\n",
       "   expressive      herb   include  ...    stealthily  oppressively  \\\n",
       "0    0.000180  0.003367  0.000678  ...  5.011530e-07  5.011527e-07   \n",
       "1    0.000227  0.002539  0.001026  ...  4.048863e-07  4.112625e-07   \n",
       "2    0.000456  0.001306  0.000517  ...  3.964672e-07  3.696841e-07   \n",
       "3    0.000227  0.001633  0.000859  ...  3.427302e-07  3.520674e-07   \n",
       "4    0.000284  0.005795  0.000468  ...  2.939270e-07  2.946715e-07   \n",
       "\n",
       "        attunga       souffle         baton        batuta     conductor  \\\n",
       "0  5.011536e-07  5.011530e-07  5.011534e-07  5.011534e-07  5.011534e-07   \n",
       "1  4.262126e-07  4.048862e-07  4.048865e-07  4.048865e-07  4.048865e-07   \n",
       "2  3.696849e-07  4.148357e-07  3.696847e-07  3.696847e-07  3.696847e-07   \n",
       "3  3.425639e-07  3.425636e-07  3.437681e-07  3.437681e-07  3.437681e-07   \n",
       "4  2.925496e-07  2.925494e-07  2.925496e-07  2.925496e-07  2.925496e-07   \n",
       "\n",
       "     instrument        soufre         verse  \n",
       "0  5.011534e-07  5.011531e-07  5.025056e-07  \n",
       "1  4.048865e-07  4.115850e-07  4.048863e-07  \n",
       "2  3.696847e-07  3.990027e-07  4.160128e-07  \n",
       "3  3.437681e-07  3.425637e-07  3.425637e-07  \n",
       "4  2.925496e-07  2.940792e-07  2.925495e-07  \n",
       "\n",
       "[5 rows x 25133 columns]"
      ]
     },
     "execution_count": 274,
     "metadata": {},
     "output_type": "execute_result"
    }
   ],
   "source": [
    "cloud_df.head()"
   ]
  },
  {
   "cell_type": "code",
   "execution_count": 273,
   "metadata": {},
   "outputs": [],
   "source": [
    "cloud_df.drop(labels='Unnamed: 0',axis=1,inplace=True)"
   ]
  },
  {
   "cell_type": "code",
   "execution_count": 278,
   "metadata": {},
   "outputs": [
    {
     "data": {
      "text/plain": [
       "acidity           2.624799e-02\n",
       "alongside         9.858649e-04\n",
       "apple             1.462254e-02\n",
       "brimstone         3.852906e-06\n",
       "brisk             8.693566e-04\n",
       "broom             5.470589e-05\n",
       "citrus            9.277270e-03\n",
       "expressive        1.801871e-04\n",
       "herb              3.366599e-03\n",
       "include           6.779254e-04\n",
       "offer             6.051411e-03\n",
       "overly            1.149815e-04\n",
       "sage              2.090872e-04\n",
       "tropical          1.780821e-03\n",
       "unripened         5.014230e-07\n",
       "berry             3.465362e-03\n",
       "better            1.293259e-03\n",
       "certainly         5.589870e-04\n",
       "drinkable         6.912665e-04\n",
       "firm              3.730275e-03\n",
       "freshen           1.156332e-04\n",
       "fruity            8.833597e-03\n",
       "juicy             5.007255e-03\n",
       "ripe              1.265210e-02\n",
       "smooth            1.230092e-03\n",
       "structure         5.264563e-03\n",
       "tannins           9.336276e-03\n",
       "crisp             1.358095e-02\n",
       "dominate          1.527418e-03\n",
       "ferment           5.346302e-04\n",
       "                      ...     \n",
       "elberberry        5.011537e-07\n",
       "circumnavigate    5.011537e-07\n",
       "magellan          5.011537e-07\n",
       "navigator         5.011537e-07\n",
       "jours             5.011532e-07\n",
       "tous              5.011532e-07\n",
       "dupee             5.011532e-07\n",
       "driscoll          5.272289e-07\n",
       "durou             5.011536e-07\n",
       "tercero           5.011530e-07\n",
       "hotbeds           5.011531e-07\n",
       "filbert           5.289627e-07\n",
       "posit             5.011536e-07\n",
       "spangler          5.011532e-07\n",
       "reviewable        5.011599e-07\n",
       "slipper           5.126096e-07\n",
       "retaste           5.557709e-07\n",
       "humid             5.011535e-07\n",
       "alenquer          5.546665e-07\n",
       "outsider          5.011547e-07\n",
       "stealthily        5.011530e-07\n",
       "oppressively      5.011527e-07\n",
       "attunga           5.011536e-07\n",
       "souffle           5.011530e-07\n",
       "baton             5.011534e-07\n",
       "batuta            5.011534e-07\n",
       "conductor         5.011534e-07\n",
       "instrument        5.011534e-07\n",
       "soufre            5.011531e-07\n",
       "verse             5.025056e-07\n",
       "Name: 0, Length: 25133, dtype: float64"
      ]
     },
     "execution_count": 278,
     "metadata": {},
     "output_type": "execute_result"
    }
   ],
   "source": [
    "cloud_df.loc[0]"
   ]
  },
  {
   "cell_type": "code",
   "execution_count": 344,
   "metadata": {},
   "outputs": [],
   "source": [
    "top_words = np.argsort(cloud_df.loc[0])[-30:][::-1]"
   ]
  },
  {
   "cell_type": "code",
   "execution_count": 345,
   "metadata": {},
   "outputs": [
    {
     "data": {
      "text/plain": [
       "acidity       0.026248\n",
       "fresh         0.015514\n",
       "apple         0.014623\n",
       "crisp         0.013581\n",
       "ripe          0.012652\n",
       "blend         0.010075\n",
       "tannins       0.009336\n",
       "citrus        0.009277\n",
       "spice         0.008879\n",
       "fruity        0.008834\n",
       "light         0.008555\n",
       "green         0.008361\n",
       "lemon         0.008273\n",
       "texture       0.007942\n",
       "balance       0.007532\n",
       "cherry        0.007487\n",
       "character     0.007248\n",
       "bright        0.006501\n",
       "touch         0.006395\n",
       "offer         0.006051\n",
       "attractive    0.005898\n",
       "good          0.005727\n",
       "sauvignon     0.005695\n",
       "black         0.005445\n",
       "structure     0.005265\n",
       "wood          0.005214\n",
       "aftertaste    0.005159\n",
       "juicy         0.005007\n",
       "feel          0.004827\n",
       "rich          0.004795\n",
       "Name: 0, dtype: float64"
      ]
     },
     "execution_count": 345,
     "metadata": {},
     "output_type": "execute_result"
    }
   ],
   "source": [
    "cloud_df.loc[0][top_words]"
   ]
  },
  {
   "cell_type": "code",
   "execution_count": 346,
   "metadata": {},
   "outputs": [],
   "source": [
    "top_words_0 = cloud_df.loc[0][top_words]"
   ]
  },
  {
   "cell_type": "code",
   "execution_count": 347,
   "metadata": {},
   "outputs": [],
   "source": [
    "top_words_0 = top_words_0*1000"
   ]
  },
  {
   "cell_type": "code",
   "execution_count": 348,
   "metadata": {},
   "outputs": [
    {
     "data": {
      "text/plain": [
       "acidity       26.247990\n",
       "fresh         15.514008\n",
       "apple         14.622535\n",
       "crisp         13.580952\n",
       "ripe          12.652103\n",
       "blend         10.074791\n",
       "tannins        9.336276\n",
       "citrus         9.277270\n",
       "spice          8.879065\n",
       "fruity         8.833597\n",
       "light          8.554657\n",
       "green          8.361070\n",
       "lemon          8.272733\n",
       "texture        7.942118\n",
       "balance        7.531991\n",
       "cherry         7.487003\n",
       "character      7.248079\n",
       "bright         6.501000\n",
       "touch          6.394654\n",
       "offer          6.051411\n",
       "attractive     5.898310\n",
       "good           5.727387\n",
       "sauvignon      5.695415\n",
       "black          5.445364\n",
       "structure      5.264563\n",
       "wood           5.213518\n",
       "aftertaste     5.158704\n",
       "juicy          5.007255\n",
       "feel           4.827019\n",
       "rich           4.795402\n",
       "Name: 0, dtype: float64"
      ]
     },
     "execution_count": 348,
     "metadata": {},
     "output_type": "execute_result"
    }
   ],
   "source": [
    "top_words_0"
   ]
  },
  {
   "cell_type": "code",
   "execution_count": 349,
   "metadata": {},
   "outputs": [
    {
     "data": {
      "text/plain": [
       "pandas.core.series.Series"
      ]
     },
     "execution_count": 349,
     "metadata": {},
     "output_type": "execute_result"
    }
   ],
   "source": [
    "type(top_words_0)"
   ]
  },
  {
   "cell_type": "code",
   "execution_count": 350,
   "metadata": {},
   "outputs": [
    {
     "data": {
      "text/plain": [
       "Index(['acidity', 'fresh', 'apple', 'crisp', 'ripe', 'blend', 'tannins',\n",
       "       'citrus', 'spice', 'fruity', 'light', 'green', 'lemon', 'texture',\n",
       "       'balance', 'cherry', 'character', 'bright', 'touch', 'offer',\n",
       "       'attractive', 'good', 'sauvignon', 'black', 'structure', 'wood',\n",
       "       'aftertaste', 'juicy', 'feel', 'rich'],\n",
       "      dtype='object')"
      ]
     },
     "execution_count": 350,
     "metadata": {},
     "output_type": "execute_result"
    }
   ],
   "source": [
    "top_words_0.index"
   ]
  },
  {
   "cell_type": "code",
   "execution_count": 351,
   "metadata": {},
   "outputs": [],
   "source": [
    "freq = []\n",
    "for idx, val in zip(top_words_0.index,top_words_0):\n",
    "    for _ in range(round(val)):\n",
    "        freq.append(idx)"
   ]
  },
  {
   "cell_type": "code",
   "execution_count": 352,
   "metadata": {
    "scrolled": true
   },
   "outputs": [
    {
     "data": {
      "text/plain": [
       "['acidity',\n",
       " 'acidity',\n",
       " 'acidity',\n",
       " 'acidity',\n",
       " 'acidity',\n",
       " 'acidity',\n",
       " 'acidity',\n",
       " 'acidity',\n",
       " 'acidity',\n",
       " 'acidity',\n",
       " 'acidity',\n",
       " 'acidity',\n",
       " 'acidity',\n",
       " 'acidity',\n",
       " 'acidity',\n",
       " 'acidity',\n",
       " 'acidity',\n",
       " 'acidity',\n",
       " 'acidity',\n",
       " 'acidity',\n",
       " 'acidity',\n",
       " 'acidity',\n",
       " 'acidity',\n",
       " 'acidity',\n",
       " 'acidity',\n",
       " 'acidity',\n",
       " 'fresh',\n",
       " 'fresh',\n",
       " 'fresh',\n",
       " 'fresh',\n",
       " 'fresh',\n",
       " 'fresh',\n",
       " 'fresh',\n",
       " 'fresh',\n",
       " 'fresh',\n",
       " 'fresh',\n",
       " 'fresh',\n",
       " 'fresh',\n",
       " 'fresh',\n",
       " 'fresh',\n",
       " 'fresh',\n",
       " 'fresh',\n",
       " 'apple',\n",
       " 'apple',\n",
       " 'apple',\n",
       " 'apple',\n",
       " 'apple',\n",
       " 'apple',\n",
       " 'apple',\n",
       " 'apple',\n",
       " 'apple',\n",
       " 'apple',\n",
       " 'apple',\n",
       " 'apple',\n",
       " 'apple',\n",
       " 'apple',\n",
       " 'apple',\n",
       " 'crisp',\n",
       " 'crisp',\n",
       " 'crisp',\n",
       " 'crisp',\n",
       " 'crisp',\n",
       " 'crisp',\n",
       " 'crisp',\n",
       " 'crisp',\n",
       " 'crisp',\n",
       " 'crisp',\n",
       " 'crisp',\n",
       " 'crisp',\n",
       " 'crisp',\n",
       " 'crisp',\n",
       " 'ripe',\n",
       " 'ripe',\n",
       " 'ripe',\n",
       " 'ripe',\n",
       " 'ripe',\n",
       " 'ripe',\n",
       " 'ripe',\n",
       " 'ripe',\n",
       " 'ripe',\n",
       " 'ripe',\n",
       " 'ripe',\n",
       " 'ripe',\n",
       " 'ripe',\n",
       " 'blend',\n",
       " 'blend',\n",
       " 'blend',\n",
       " 'blend',\n",
       " 'blend',\n",
       " 'blend',\n",
       " 'blend',\n",
       " 'blend',\n",
       " 'blend',\n",
       " 'blend',\n",
       " 'tannins',\n",
       " 'tannins',\n",
       " 'tannins',\n",
       " 'tannins',\n",
       " 'tannins',\n",
       " 'tannins',\n",
       " 'tannins',\n",
       " 'tannins',\n",
       " 'tannins',\n",
       " 'citrus',\n",
       " 'citrus',\n",
       " 'citrus',\n",
       " 'citrus',\n",
       " 'citrus',\n",
       " 'citrus',\n",
       " 'citrus',\n",
       " 'citrus',\n",
       " 'citrus',\n",
       " 'spice',\n",
       " 'spice',\n",
       " 'spice',\n",
       " 'spice',\n",
       " 'spice',\n",
       " 'spice',\n",
       " 'spice',\n",
       " 'spice',\n",
       " 'spice',\n",
       " 'fruity',\n",
       " 'fruity',\n",
       " 'fruity',\n",
       " 'fruity',\n",
       " 'fruity',\n",
       " 'fruity',\n",
       " 'fruity',\n",
       " 'fruity',\n",
       " 'fruity',\n",
       " 'light',\n",
       " 'light',\n",
       " 'light',\n",
       " 'light',\n",
       " 'light',\n",
       " 'light',\n",
       " 'light',\n",
       " 'light',\n",
       " 'light',\n",
       " 'green',\n",
       " 'green',\n",
       " 'green',\n",
       " 'green',\n",
       " 'green',\n",
       " 'green',\n",
       " 'green',\n",
       " 'green',\n",
       " 'lemon',\n",
       " 'lemon',\n",
       " 'lemon',\n",
       " 'lemon',\n",
       " 'lemon',\n",
       " 'lemon',\n",
       " 'lemon',\n",
       " 'lemon',\n",
       " 'texture',\n",
       " 'texture',\n",
       " 'texture',\n",
       " 'texture',\n",
       " 'texture',\n",
       " 'texture',\n",
       " 'texture',\n",
       " 'texture',\n",
       " 'balance',\n",
       " 'balance',\n",
       " 'balance',\n",
       " 'balance',\n",
       " 'balance',\n",
       " 'balance',\n",
       " 'balance',\n",
       " 'balance',\n",
       " 'cherry',\n",
       " 'cherry',\n",
       " 'cherry',\n",
       " 'cherry',\n",
       " 'cherry',\n",
       " 'cherry',\n",
       " 'cherry',\n",
       " 'character',\n",
       " 'character',\n",
       " 'character',\n",
       " 'character',\n",
       " 'character',\n",
       " 'character',\n",
       " 'character',\n",
       " 'bright',\n",
       " 'bright',\n",
       " 'bright',\n",
       " 'bright',\n",
       " 'bright',\n",
       " 'bright',\n",
       " 'bright',\n",
       " 'touch',\n",
       " 'touch',\n",
       " 'touch',\n",
       " 'touch',\n",
       " 'touch',\n",
       " 'touch',\n",
       " 'offer',\n",
       " 'offer',\n",
       " 'offer',\n",
       " 'offer',\n",
       " 'offer',\n",
       " 'offer',\n",
       " 'attractive',\n",
       " 'attractive',\n",
       " 'attractive',\n",
       " 'attractive',\n",
       " 'attractive',\n",
       " 'attractive',\n",
       " 'good',\n",
       " 'good',\n",
       " 'good',\n",
       " 'good',\n",
       " 'good',\n",
       " 'good',\n",
       " 'sauvignon',\n",
       " 'sauvignon',\n",
       " 'sauvignon',\n",
       " 'sauvignon',\n",
       " 'sauvignon',\n",
       " 'sauvignon',\n",
       " 'black',\n",
       " 'black',\n",
       " 'black',\n",
       " 'black',\n",
       " 'black',\n",
       " 'structure',\n",
       " 'structure',\n",
       " 'structure',\n",
       " 'structure',\n",
       " 'structure',\n",
       " 'wood',\n",
       " 'wood',\n",
       " 'wood',\n",
       " 'wood',\n",
       " 'wood',\n",
       " 'aftertaste',\n",
       " 'aftertaste',\n",
       " 'aftertaste',\n",
       " 'aftertaste',\n",
       " 'aftertaste',\n",
       " 'juicy',\n",
       " 'juicy',\n",
       " 'juicy',\n",
       " 'juicy',\n",
       " 'juicy',\n",
       " 'feel',\n",
       " 'feel',\n",
       " 'feel',\n",
       " 'feel',\n",
       " 'feel',\n",
       " 'rich',\n",
       " 'rich',\n",
       " 'rich',\n",
       " 'rich',\n",
       " 'rich']"
      ]
     },
     "execution_count": 352,
     "metadata": {},
     "output_type": "execute_result"
    }
   ],
   "source": [
    "freq"
   ]
  },
  {
   "cell_type": "code",
   "execution_count": 367,
   "metadata": {},
   "outputs": [],
   "source": [
    "import random\n",
    "from PIL import Image"
   ]
  },
  {
   "cell_type": "code",
   "execution_count": 353,
   "metadata": {},
   "outputs": [],
   "source": [
    "random.shuffle(freq)"
   ]
  },
  {
   "cell_type": "code",
   "execution_count": 354,
   "metadata": {},
   "outputs": [],
   "source": [
    "freq_str = ' '.join(freq)"
   ]
  },
  {
   "cell_type": "code",
   "execution_count": 355,
   "metadata": {},
   "outputs": [
    {
     "data": {
      "text/plain": [
       "'lemon texture bright light fresh apple fruity juicy ripe tannins apple citrus apple fruity wood crisp wood juicy structure citrus structure black spice green cherry green black blend balance acidity character apple bright crisp acidity character green character texture crisp feel aftertaste feel offer tannins blend apple light wood touch good ripe offer juicy attractive fresh sauvignon acidity acidity fresh fresh lemon apple sauvignon character acidity touch rich juicy fresh ripe good light fresh crisp crisp acidity light blend offer cherry feel fresh balance apple balance green touch green lemon green balance ripe touch aftertaste texture ripe acidity fruity cherry acidity juicy spice acidity fruity good light ripe spice apple crisp crisp sauvignon lemon light wood ripe sauvignon tannins ripe texture rich feel acidity tannins wood black texture acidity texture apple feel cherry fruity apple blend tannins fresh apple aftertaste spice fruity fruity cherry acidity black acidity cherry aftertaste spice tannins sauvignon character attractive spice bright lemon crisp offer blend acidity fresh bright green offer sauvignon spice rich crisp apple tannins acidity touch acidity tannins blend aftertaste texture crisp ripe citrus lemon offer green spice blend good acidity acidity acidity fresh structure lemon crisp fresh balance attractive attractive fresh texture touch tannins citrus rich acidity structure ripe apple fruity fruity citrus bright spice crisp acidity acidity apple blend fresh fresh rich attractive ripe ripe light light apple lemon crisp acidity structure blend balance citrus acidity fresh crisp bright cherry fresh character character attractive balance ripe balance light bright citrus citrus black acidity citrus blend good acidity good'"
      ]
     },
     "execution_count": 355,
     "metadata": {},
     "output_type": "execute_result"
    }
   ],
   "source": [
    "freq_str"
   ]
  },
  {
   "cell_type": "code",
   "execution_count": 356,
   "metadata": {},
   "outputs": [
    {
     "data": {
      "image/png": "[encoded data removed]",
      "text/plain": [
       "<Figure size 432x288 with 1 Axes>"
      ]
     },
     "metadata": {
      "needs_background": "light"
     },
     "output_type": "display_data"
    }
   ],
   "source": [
    "# Generate a word cloud image\n",
    "wordcloud = WordCloud(stopwords=stop_words, background_color=\"white\",relative_scaling=1).generate(freq_str)\n",
    "\n",
    "# Display the generated image:\n",
    "# the matplotlib way:\n",
    "plt.imshow(wordcloud, interpolation='bilinear')\n",
    "plt.axis(\"off\")\n",
    "plt.show()"
   ]
  },
  {
   "cell_type": "code",
   "execution_count": 361,
   "metadata": {},
   "outputs": [],
   "source": [
    "def transform_format(val):\n",
    "    if val == 0:\n",
    "        return 255\n",
    "    else:\n",
    "        return val"
   ]
  },
  {
   "cell_type": "code",
   "execution_count": 389,
   "metadata": {
    "scrolled": true
   },
   "outputs": [],
   "source": [
    "wine_mask = np.array(Image.open(\"../images/wineglass.png\"))"
   ]
  },
  {
   "cell_type": "code",
   "execution_count": 390,
   "metadata": {},
   "outputs": [],
   "source": [
    "transformed_wine_mask = np.ndarray((wine_mask.shape[0],wine_mask.shape[1]), np.int32)\n",
    "\n",
    "for i in range(len(wine_mask)):\n",
    "    transformed_wine_mask[i] = list(map(transform_format, wine_mask[i]))"
   ]
  },
  {
   "cell_type": "code",
   "execution_count": 391,
   "metadata": {},
   "outputs": [
    {
     "data": {
      "text/plain": [
       "array([[0, 0, 0, ..., 0, 0, 0],\n",
       "       [0, 0, 0, ..., 0, 0, 0],\n",
       "       [0, 0, 0, ..., 0, 0, 0],\n",
       "       ...,\n",
       "       [0, 0, 0, ..., 0, 0, 0],\n",
       "       [0, 0, 0, ..., 0, 0, 0],\n",
       "       [0, 0, 0, ..., 0, 0, 0]], dtype=uint8)"
      ]
     },
     "execution_count": 391,
     "metadata": {},
     "output_type": "execute_result"
    }
   ],
   "source": [
    "wine_mask"
   ]
  },
  {
   "cell_type": "code",
   "execution_count": null,
   "metadata": {},
   "outputs": [],
   "source": []
  },
  {
   "cell_type": "code",
   "execution_count": 392,
   "metadata": {},
   "outputs": [
    {
     "data": {
      "text/plain": [
       "<wordcloud.wordcloud.WordCloud at 0x1aafb4eb00>"
      ]
     },
     "execution_count": 392,
     "metadata": {},
     "output_type": "execute_result"
    }
   ],
   "source": [
    "wc = WordCloud(background_color=\"white\", max_words=50, mask=transformed_wine_mask,\n",
    "               stopwords=stop_words, contour_width=3, contour_color='black')\n",
    "\n",
    "# Generate a wordcloud\n",
    "wc.generate(freq_str)"
   ]
  },
  {
   "cell_type": "code",
   "execution_count": 393,
   "metadata": {},
   "outputs": [
    {
     "data": {
      "image/png": "[encoded data removed]",
      "text/plain": [
       "<Figure size 1440x720 with 1 Axes>"
      ]
     },
     "metadata": {
      "needs_background": "light"
     },
     "output_type": "display_data"
    }
   ],
   "source": [
    "plt.figure(figsize=[20,10])\n",
    "plt.imshow(wc, interpolation='bilinear')\n",
    "plt.axis(\"off\")\n",
    "plt.show()"
   ]
  },
  {
   "cell_type": "markdown",
   "metadata": {},
   "source": [
    "## another category"
   ]
  },
  {
   "cell_type": "code",
   "execution_count": 419,
   "metadata": {},
   "outputs": [],
   "source": [
    "top_words_6 = np.argsort(cloud_df.loc[6])[-30:][::-1]"
   ]
  },
  {
   "cell_type": "code",
   "execution_count": 420,
   "metadata": {
    "scrolled": true
   },
   "outputs": [
    {
     "data": {
      "text/plain": [
       "berry         0.016454\n",
       "tannins       0.015111\n",
       "acidity       0.014733\n",
       "plum          0.014393\n",
       "spice         0.013242\n",
       "cherry        0.013188\n",
       "vanilla       0.008257\n",
       "feel          0.008167\n",
       "herbal        0.008146\n",
       "good          0.008077\n",
       "black         0.007959\n",
       "offer         0.007515\n",
       "blackberry    0.007414\n",
       "soft          0.006988\n",
       "balance       0.006903\n",
       "sweet         0.006713\n",
       "ripe          0.006600\n",
       "touch         0.006166\n",
       "bite          0.005726\n",
       "green         0.005725\n",
       "body          0.005624\n",
       "dark          0.005619\n",
       "bake          0.005297\n",
       "rich          0.005145\n",
       "come          0.004811\n",
       "cabernet      0.004643\n",
       "raspberry     0.004630\n",
       "blend         0.004417\n",
       "taste         0.004337\n",
       "chocolate     0.004332\n",
       "Name: 6, dtype: float64"
      ]
     },
     "execution_count": 420,
     "metadata": {},
     "output_type": "execute_result"
    }
   ],
   "source": [
    "cloud_df.loc[6][top_words_6]"
   ]
  },
  {
   "cell_type": "code",
   "execution_count": 421,
   "metadata": {},
   "outputs": [],
   "source": [
    "top_words_6 = cloud_df.loc[6][top_words_6]"
   ]
  },
  {
   "cell_type": "code",
   "execution_count": 422,
   "metadata": {},
   "outputs": [
    {
     "data": {
      "text/plain": [
       "berry         0.016454\n",
       "tannins       0.015111\n",
       "acidity       0.014733\n",
       "plum          0.014393\n",
       "spice         0.013242\n",
       "cherry        0.013188\n",
       "vanilla       0.008257\n",
       "feel          0.008167\n",
       "herbal        0.008146\n",
       "good          0.008077\n",
       "black         0.007959\n",
       "offer         0.007515\n",
       "blackberry    0.007414\n",
       "soft          0.006988\n",
       "balance       0.006903\n",
       "sweet         0.006713\n",
       "ripe          0.006600\n",
       "touch         0.006166\n",
       "bite          0.005726\n",
       "green         0.005725\n",
       "body          0.005624\n",
       "dark          0.005619\n",
       "bake          0.005297\n",
       "rich          0.005145\n",
       "come          0.004811\n",
       "cabernet      0.004643\n",
       "raspberry     0.004630\n",
       "blend         0.004417\n",
       "taste         0.004337\n",
       "chocolate     0.004332\n",
       "Name: 6, dtype: float64"
      ]
     },
     "execution_count": 422,
     "metadata": {},
     "output_type": "execute_result"
    }
   ],
   "source": [
    "top_words_6"
   ]
  },
  {
   "cell_type": "code",
   "execution_count": 423,
   "metadata": {},
   "outputs": [],
   "source": [
    "top_words_6 = top_words_6*1000"
   ]
  },
  {
   "cell_type": "code",
   "execution_count": 424,
   "metadata": {},
   "outputs": [
    {
     "data": {
      "text/plain": [
       "berry         16.454035\n",
       "tannins       15.111097\n",
       "acidity       14.732542\n",
       "plum          14.393437\n",
       "spice         13.241898\n",
       "cherry        13.187651\n",
       "vanilla        8.256587\n",
       "feel           8.166921\n",
       "herbal         8.145678\n",
       "good           8.077499\n",
       "black          7.958536\n",
       "offer          7.515294\n",
       "blackberry     7.413967\n",
       "soft           6.987951\n",
       "balance        6.903239\n",
       "sweet          6.713006\n",
       "ripe           6.599906\n",
       "touch          6.166461\n",
       "bite           5.726080\n",
       "green          5.724863\n",
       "body           5.623947\n",
       "dark           5.619235\n",
       "bake           5.297490\n",
       "rich           5.145279\n",
       "come           4.810992\n",
       "cabernet       4.643203\n",
       "raspberry      4.629764\n",
       "blend          4.417370\n",
       "taste          4.336936\n",
       "chocolate      4.331783\n",
       "Name: 6, dtype: float64"
      ]
     },
     "execution_count": 424,
     "metadata": {},
     "output_type": "execute_result"
    }
   ],
   "source": [
    "top_words_6"
   ]
  },
  {
   "cell_type": "code",
   "execution_count": 425,
   "metadata": {},
   "outputs": [
    {
     "data": {
      "text/plain": [
       "Index(['berry', 'tannins', 'acidity', 'plum', 'spice', 'cherry', 'vanilla',\n",
       "       'feel', 'herbal', 'good', 'black', 'offer', 'blackberry', 'soft',\n",
       "       'balance', 'sweet', 'ripe', 'touch', 'bite', 'green', 'body', 'dark',\n",
       "       'bake', 'rich', 'come', 'cabernet', 'raspberry', 'blend', 'taste',\n",
       "       'chocolate'],\n",
       "      dtype='object')"
      ]
     },
     "execution_count": 425,
     "metadata": {},
     "output_type": "execute_result"
    }
   ],
   "source": [
    "top_words_6.index"
   ]
  },
  {
   "cell_type": "code",
   "execution_count": 426,
   "metadata": {},
   "outputs": [],
   "source": [
    "freq = []\n",
    "for idx, val in zip(top_words_6.index,top_words_6):\n",
    "    for _ in range(round(val)):\n",
    "        freq.append(idx)"
   ]
  },
  {
   "cell_type": "code",
   "execution_count": 427,
   "metadata": {
    "scrolled": true
   },
   "outputs": [
    {
     "data": {
      "text/plain": [
       "['berry',\n",
       " 'berry',\n",
       " 'berry',\n",
       " 'berry',\n",
       " 'berry',\n",
       " 'berry',\n",
       " 'berry',\n",
       " 'berry',\n",
       " 'berry',\n",
       " 'berry',\n",
       " 'berry',\n",
       " 'berry',\n",
       " 'berry',\n",
       " 'berry',\n",
       " 'berry',\n",
       " 'berry',\n",
       " 'tannins',\n",
       " 'tannins',\n",
       " 'tannins',\n",
       " 'tannins',\n",
       " 'tannins',\n",
       " 'tannins',\n",
       " 'tannins',\n",
       " 'tannins',\n",
       " 'tannins',\n",
       " 'tannins',\n",
       " 'tannins',\n",
       " 'tannins',\n",
       " 'tannins',\n",
       " 'tannins',\n",
       " 'tannins',\n",
       " 'acidity',\n",
       " 'acidity',\n",
       " 'acidity',\n",
       " 'acidity',\n",
       " 'acidity',\n",
       " 'acidity',\n",
       " 'acidity',\n",
       " 'acidity',\n",
       " 'acidity',\n",
       " 'acidity',\n",
       " 'acidity',\n",
       " 'acidity',\n",
       " 'acidity',\n",
       " 'acidity',\n",
       " 'acidity',\n",
       " 'plum',\n",
       " 'plum',\n",
       " 'plum',\n",
       " 'plum',\n",
       " 'plum',\n",
       " 'plum',\n",
       " 'plum',\n",
       " 'plum',\n",
       " 'plum',\n",
       " 'plum',\n",
       " 'plum',\n",
       " 'plum',\n",
       " 'plum',\n",
       " 'plum',\n",
       " 'spice',\n",
       " 'spice',\n",
       " 'spice',\n",
       " 'spice',\n",
       " 'spice',\n",
       " 'spice',\n",
       " 'spice',\n",
       " 'spice',\n",
       " 'spice',\n",
       " 'spice',\n",
       " 'spice',\n",
       " 'spice',\n",
       " 'spice',\n",
       " 'cherry',\n",
       " 'cherry',\n",
       " 'cherry',\n",
       " 'cherry',\n",
       " 'cherry',\n",
       " 'cherry',\n",
       " 'cherry',\n",
       " 'cherry',\n",
       " 'cherry',\n",
       " 'cherry',\n",
       " 'cherry',\n",
       " 'cherry',\n",
       " 'cherry',\n",
       " 'vanilla',\n",
       " 'vanilla',\n",
       " 'vanilla',\n",
       " 'vanilla',\n",
       " 'vanilla',\n",
       " 'vanilla',\n",
       " 'vanilla',\n",
       " 'vanilla',\n",
       " 'feel',\n",
       " 'feel',\n",
       " 'feel',\n",
       " 'feel',\n",
       " 'feel',\n",
       " 'feel',\n",
       " 'feel',\n",
       " 'feel',\n",
       " 'herbal',\n",
       " 'herbal',\n",
       " 'herbal',\n",
       " 'herbal',\n",
       " 'herbal',\n",
       " 'herbal',\n",
       " 'herbal',\n",
       " 'herbal',\n",
       " 'good',\n",
       " 'good',\n",
       " 'good',\n",
       " 'good',\n",
       " 'good',\n",
       " 'good',\n",
       " 'good',\n",
       " 'good',\n",
       " 'black',\n",
       " 'black',\n",
       " 'black',\n",
       " 'black',\n",
       " 'black',\n",
       " 'black',\n",
       " 'black',\n",
       " 'black',\n",
       " 'offer',\n",
       " 'offer',\n",
       " 'offer',\n",
       " 'offer',\n",
       " 'offer',\n",
       " 'offer',\n",
       " 'offer',\n",
       " 'offer',\n",
       " 'blackberry',\n",
       " 'blackberry',\n",
       " 'blackberry',\n",
       " 'blackberry',\n",
       " 'blackberry',\n",
       " 'blackberry',\n",
       " 'blackberry',\n",
       " 'soft',\n",
       " 'soft',\n",
       " 'soft',\n",
       " 'soft',\n",
       " 'soft',\n",
       " 'soft',\n",
       " 'soft',\n",
       " 'balance',\n",
       " 'balance',\n",
       " 'balance',\n",
       " 'balance',\n",
       " 'balance',\n",
       " 'balance',\n",
       " 'balance',\n",
       " 'sweet',\n",
       " 'sweet',\n",
       " 'sweet',\n",
       " 'sweet',\n",
       " 'sweet',\n",
       " 'sweet',\n",
       " 'sweet',\n",
       " 'ripe',\n",
       " 'ripe',\n",
       " 'ripe',\n",
       " 'ripe',\n",
       " 'ripe',\n",
       " 'ripe',\n",
       " 'ripe',\n",
       " 'touch',\n",
       " 'touch',\n",
       " 'touch',\n",
       " 'touch',\n",
       " 'touch',\n",
       " 'touch',\n",
       " 'bite',\n",
       " 'bite',\n",
       " 'bite',\n",
       " 'bite',\n",
       " 'bite',\n",
       " 'bite',\n",
       " 'green',\n",
       " 'green',\n",
       " 'green',\n",
       " 'green',\n",
       " 'green',\n",
       " 'green',\n",
       " 'body',\n",
       " 'body',\n",
       " 'body',\n",
       " 'body',\n",
       " 'body',\n",
       " 'body',\n",
       " 'dark',\n",
       " 'dark',\n",
       " 'dark',\n",
       " 'dark',\n",
       " 'dark',\n",
       " 'dark',\n",
       " 'bake',\n",
       " 'bake',\n",
       " 'bake',\n",
       " 'bake',\n",
       " 'bake',\n",
       " 'rich',\n",
       " 'rich',\n",
       " 'rich',\n",
       " 'rich',\n",
       " 'rich',\n",
       " 'come',\n",
       " 'come',\n",
       " 'come',\n",
       " 'come',\n",
       " 'come',\n",
       " 'cabernet',\n",
       " 'cabernet',\n",
       " 'cabernet',\n",
       " 'cabernet',\n",
       " 'cabernet',\n",
       " 'raspberry',\n",
       " 'raspberry',\n",
       " 'raspberry',\n",
       " 'raspberry',\n",
       " 'raspberry',\n",
       " 'blend',\n",
       " 'blend',\n",
       " 'blend',\n",
       " 'blend',\n",
       " 'taste',\n",
       " 'taste',\n",
       " 'taste',\n",
       " 'taste',\n",
       " 'chocolate',\n",
       " 'chocolate',\n",
       " 'chocolate',\n",
       " 'chocolate']"
      ]
     },
     "execution_count": 427,
     "metadata": {},
     "output_type": "execute_result"
    }
   ],
   "source": [
    "freq"
   ]
  },
  {
   "cell_type": "code",
   "execution_count": 428,
   "metadata": {},
   "outputs": [],
   "source": [
    "random.shuffle(freq)"
   ]
  },
  {
   "cell_type": "code",
   "execution_count": 429,
   "metadata": {},
   "outputs": [],
   "source": [
    "freq_str2 = ' '.join(freq)"
   ]
  },
  {
   "cell_type": "code",
   "execution_count": 430,
   "metadata": {},
   "outputs": [
    {
     "data": {
      "text/plain": [
       "'tannins chocolate vanilla berry cherry acidity spice acidity offer tannins bake acidity feel come good soft feel bite cherry plum chocolate green herbal blackberry ripe sweet body black good sweet raspberry dark blend feel cherry vanilla sweet bite balance balance berry body soft acidity berry rich berry spice balance tannins vanilla touch plum taste herbal ripe green blackberry blend touch bite plum spice acidity plum plum dark plum body cabernet plum taste balance ripe rich dark cherry raspberry body blackberry spice bite chocolate black berry come tannins acidity plum feel tannins acidity body offer green vanilla tannins rich blackberry cherry plum touch berry ripe tannins cherry herbal balance berry plum herbal tannins soft tannins ripe balance ripe dark berry cherry spice berry blend dark berry blackberry tannins acidity tannins black plum vanilla green acidity cherry sweet cabernet spice bite spice offer cherry berry sweet herbal feel sweet taste plum spice good raspberry bite herbal tannins berry bake spice feel dark bake cherry come plum herbal offer acidity bake berry offer acidity vanilla come spice berry blackberry good offer ripe tannins acidity black chocolate tannins touch black black raspberry soft blend good cherry soft raspberry body spice cabernet berry spice vanilla vanilla blackberry acidity soft black green good tannins green good balance soft taste offer sweet cabernet acidity cabernet cherry plum come touch good bake offer feel touch cherry feel acidity rich spice rich berry black herbal'"
      ]
     },
     "execution_count": 430,
     "metadata": {},
     "output_type": "execute_result"
    }
   ],
   "source": [
    "freq_str2"
   ]
  },
  {
   "cell_type": "code",
   "execution_count": 470,
   "metadata": {},
   "outputs": [],
   "source": [
    "def random_color_func(word=None, font_size=None, position=None,  orientation=None, font_path=None, random_state=None):\n",
    "    h = int(360.0 * 9 / 255.0)\n",
    "    s = int(100.0 * 255.0 / 255.0)\n",
    "    l = int(100.0 * float(random_state.randint(60, 120)) / 255.0)\n",
    "\n",
    "    return \"hsl({}, {}%, {}%)\".format(h, s, l)\n"
   ]
  },
  {
   "cell_type": "code",
   "execution_count": 471,
   "metadata": {},
   "outputs": [
    {
     "data": {
      "image/png": "[encoded data removed]",
      "text/plain": [
       "<Figure size 1440x720 with 1 Axes>"
      ]
     },
     "metadata": {
      "needs_background": "light"
     },
     "output_type": "display_data"
    }
   ],
   "source": [
    "wc = WordCloud(background_color=\"white\", max_words=50, mask=transformed_wine_mask,\n",
    "               stopwords=stop_words, contour_width=3, contour_color='black',color_func=random_color_func)\n",
    "\n",
    "# Generate a wordcloud\n",
    "wc.generate(freq_str2)\n",
    "\n",
    "plt.figure(figsize=[20,10])\n",
    "plt.imshow(wc, interpolation='bilinear')\n",
    "plt.axis(\"off\")\n",
    "plt.show()"
   ]
  },
  {
   "cell_type": "code",
   "execution_count": null,
   "metadata": {},
   "outputs": [],
   "source": []
  },
  {
   "cell_type": "code",
   "execution_count": null,
   "metadata": {},
   "outputs": [],
   "source": []
  },
  {
   "cell_type": "code",
   "execution_count": null,
   "metadata": {},
   "outputs": [],
   "source": []
  }
 ],
 "metadata": {
  "kernelspec": {
   "display_name": "Python 3",
   "language": "python",
   "name": "python3"
  },
  "language_info": {
   "codemirror_mode": {
    "name": "ipython",
    "version": 3
   },
   "file_extension": ".py",
   "mimetype": "text/x-python",
   "name": "python",
   "nbconvert_exporter": "python",
   "pygments_lexer": "ipython3",
   "version": "3.7.3"
  }
 },
 "nbformat": 4,
 "nbformat_minor": 2
}
